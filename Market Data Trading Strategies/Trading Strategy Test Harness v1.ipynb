{
 "cells": [
  {
   "cell_type": "markdown",
   "metadata": {},
   "source": [
    "# Trading Strategy Test Harness\n",
    "_Version 1.0_"
   ]
  },
  {
   "cell_type": "code",
   "execution_count": 27,
   "metadata": {},
   "outputs": [],
   "source": [
    "%matplotlib inline\n",
    "\n",
    "import matplotlib\n",
    "import matplotlib.pyplot as plt\n",
    "import pandas as pd\n",
    "\n",
    "# load our helper functios\n",
    "%run simtools.py\n",
    "\n",
    "matplotlib.rcParams[ 'figure.figsize' ] = ( 16, 9 )"
   ]
  },
  {
   "cell_type": "markdown",
   "metadata": {},
   "source": [
    "### Load Merged Data\n",
    "\n",
    "We'll assume we have already done some cleaning by using our Tick Data Setup or similar code"
   ]
  },
  {
   "cell_type": "code",
   "execution_count": 28,
   "metadata": {},
   "outputs": [],
   "source": [
    "# set up some variables\n",
    "tickfile = 'TSLA-TAQ-aug19.zip'\n",
    "test_day = '2019-08-30'"
   ]
  },
  {
   "cell_type": "code",
   "execution_count": 29,
   "metadata": {},
   "outputs": [],
   "source": [
    "# load tick data\n",
    "taq = pd.read_pickle(tickfile)"
   ]
  },
  {
   "cell_type": "code",
   "execution_count": 30,
   "metadata": {},
   "outputs": [
    {
     "data": {
      "text/plain": [
       "10313405"
      ]
     },
     "execution_count": 30,
     "metadata": {},
     "output_type": "execute_result"
    }
   ],
   "source": [
    "len(taq)"
   ]
  },
  {
   "cell_type": "code",
   "execution_count": 31,
   "metadata": {},
   "outputs": [
    {
     "data": {
      "text/html": [
       "<div>\n",
       "<style scoped>\n",
       "    .dataframe tbody tr th:only-of-type {\n",
       "        vertical-align: middle;\n",
       "    }\n",
       "\n",
       "    .dataframe tbody tr th {\n",
       "        vertical-align: top;\n",
       "    }\n",
       "\n",
       "    .dataframe thead th {\n",
       "        text-align: right;\n",
       "    }\n",
       "</style>\n",
       "<table border=\"1\" class=\"dataframe\">\n",
       "  <thead>\n",
       "    <tr style=\"text-align: right;\">\n",
       "      <th></th>\n",
       "      <th>exch</th>\n",
       "      <th>bid_px</th>\n",
       "      <th>bid_size</th>\n",
       "      <th>ask_px</th>\n",
       "      <th>ask_size</th>\n",
       "      <th>symbol</th>\n",
       "      <th>suffix_x</th>\n",
       "      <th>suffix_y</th>\n",
       "      <th>trade_size</th>\n",
       "      <th>trade_px</th>\n",
       "    </tr>\n",
       "  </thead>\n",
       "  <tbody>\n",
       "    <tr>\n",
       "      <td>2019-08-30 15:59:59.991016490</td>\n",
       "      <td>Z</td>\n",
       "      <td>225.55</td>\n",
       "      <td>1.0</td>\n",
       "      <td>225.62</td>\n",
       "      <td>1.0</td>\n",
       "      <td>TSLA</td>\n",
       "      <td>NaN</td>\n",
       "      <td>NaN</td>\n",
       "      <td>NaN</td>\n",
       "      <td>NaN</td>\n",
       "    </tr>\n",
       "    <tr>\n",
       "      <td>2019-08-30 15:59:59.991034985</td>\n",
       "      <td>Z</td>\n",
       "      <td>225.56</td>\n",
       "      <td>1.0</td>\n",
       "      <td>225.62</td>\n",
       "      <td>1.0</td>\n",
       "      <td>TSLA</td>\n",
       "      <td>NaN</td>\n",
       "      <td>NaN</td>\n",
       "      <td>NaN</td>\n",
       "      <td>NaN</td>\n",
       "    </tr>\n",
       "    <tr>\n",
       "      <td>2019-08-30 15:59:59.991902659</td>\n",
       "      <td>Z</td>\n",
       "      <td>225.56</td>\n",
       "      <td>1.0</td>\n",
       "      <td>225.62</td>\n",
       "      <td>2.0</td>\n",
       "      <td>TSLA</td>\n",
       "      <td>NaN</td>\n",
       "      <td>NaN</td>\n",
       "      <td>NaN</td>\n",
       "      <td>NaN</td>\n",
       "    </tr>\n",
       "    <tr>\n",
       "      <td>2019-08-30 15:59:59.993930363</td>\n",
       "      <td>Z</td>\n",
       "      <td>225.56</td>\n",
       "      <td>1.0</td>\n",
       "      <td>225.62</td>\n",
       "      <td>1.0</td>\n",
       "      <td>TSLA</td>\n",
       "      <td>NaN</td>\n",
       "      <td>NaN</td>\n",
       "      <td>NaN</td>\n",
       "      <td>NaN</td>\n",
       "    </tr>\n",
       "    <tr>\n",
       "      <td>2019-08-30 15:59:59.994803816</td>\n",
       "      <td>Z</td>\n",
       "      <td>225.56</td>\n",
       "      <td>1.0</td>\n",
       "      <td>225.62</td>\n",
       "      <td>2.0</td>\n",
       "      <td>TSLA</td>\n",
       "      <td>NaN</td>\n",
       "      <td>NaN</td>\n",
       "      <td>NaN</td>\n",
       "      <td>NaN</td>\n",
       "    </tr>\n",
       "  </tbody>\n",
       "</table>\n",
       "</div>"
      ],
      "text/plain": [
       "                              exch  bid_px  bid_size  ask_px  ask_size symbol  \\\n",
       "2019-08-30 15:59:59.991016490    Z  225.55       1.0  225.62       1.0   TSLA   \n",
       "2019-08-30 15:59:59.991034985    Z  225.56       1.0  225.62       1.0   TSLA   \n",
       "2019-08-30 15:59:59.991902659    Z  225.56       1.0  225.62       2.0   TSLA   \n",
       "2019-08-30 15:59:59.993930363    Z  225.56       1.0  225.62       1.0   TSLA   \n",
       "2019-08-30 15:59:59.994803816    Z  225.56       1.0  225.62       2.0   TSLA   \n",
       "\n",
       "                               suffix_x  suffix_y  trade_size  trade_px  \n",
       "2019-08-30 15:59:59.991016490       NaN       NaN         NaN       NaN  \n",
       "2019-08-30 15:59:59.991034985       NaN       NaN         NaN       NaN  \n",
       "2019-08-30 15:59:59.991902659       NaN       NaN         NaN       NaN  \n",
       "2019-08-30 15:59:59.993930363       NaN       NaN         NaN       NaN  \n",
       "2019-08-30 15:59:59.994803816       NaN       NaN         NaN       NaN  "
      ]
     },
     "execution_count": 31,
     "metadata": {},
     "output_type": "execute_result"
    }
   ],
   "source": [
    "taq.tail()"
   ]
  },
  {
   "cell_type": "code",
   "execution_count": 32,
   "metadata": {},
   "outputs": [],
   "source": [
    "# filter on date\n",
    "day = taq[test_day]"
   ]
  },
  {
   "cell_type": "markdown",
   "metadata": {},
   "source": [
    "## Main Processing Loop"
   ]
  },
  {
   "cell_type": "code",
   "execution_count": 39,
   "metadata": {},
   "outputs": [
    {
     "name": "stdout",
     "output_type": "stream",
     "text": [
      "starting main loop : 2019-09-24 00:54:00:533589\n",
      "end main loop : 2019-09-24 00:56:06:639510\n"
     ]
    }
   ],
   "source": [
    "# order parameters will go here\n",
    "\n",
    "# ACCUMULATORS AND MARKET STATE DATA\n",
    "# hold completed trades \n",
    "trade_data = pd.DataFrame( columns = [ 'price' , 'shares'], index=day.index )\n",
    "\n",
    "# init our price and volume variables\n",
    "[last_price, last_size, bid_price, bid_size, ask_price, ask_size, volume] = np.zeros(7)\n",
    "\n",
    "# maybe a couple more\n",
    "[trade_count, quote_count] = [0, 0]\n",
    "\n",
    "# cumulative volume is nice to have too\n",
    "cumulative_volume = 0\n",
    "\n",
    "# main event loop\n",
    "log_msg('starting main loop')\n",
    "for index, row in day.iterrows() :\n",
    "    # get each row: is it a quote or a trade?\n",
    "    if pd.isna(row.trade_px): # it's a quote\n",
    "        bid_price = row.bid_px\n",
    "        bid_size = row.bid_size\n",
    "        ask_price = row.ask_px\n",
    "        ask_size = row.ask_size\n",
    "        quote_count += 1\n",
    "    else: # it's a trade\n",
    "        last_price = row.trade_px\n",
    "        last_size = row.trade_size\n",
    "        trade_count += 1\n",
    "        cumulative_volume += row.trade_size\n",
    "        \n",
    "    # algo code goes here\n",
    "    \n",
    "log_msg('end main loop')"
   ]
  },
  {
   "cell_type": "markdown",
   "metadata": {},
   "source": [
    "## Statistics\n",
    "\n",
    "We'll put various metrics here, depending on what our algo is doing. For now we'll just put some basic order counts."
   ]
  },
  {
   "cell_type": "code",
   "execution_count": 40,
   "metadata": {},
   "outputs": [
    {
     "name": "stdout",
     "output_type": "stream",
     "text": [
      "total quote messages: 433,338\n",
      "total trade messages: 83,663\n",
      "total shares trades: 8,419,878.0\n"
     ]
    }
   ],
   "source": [
    "print(\"total quote messages: {:,}\".format(quote_count))\n",
    "print(\"total trade messages: {:,}\".format(trade_count))\n",
    "print(\"total shares trades: {:,}\".format(cumulative_volume))"
   ]
  },
  {
   "cell_type": "code",
   "execution_count": 41,
   "metadata": {},
   "outputs": [
    {
     "data": {
      "text/plain": [
       "8419878.0"
      ]
     },
     "execution_count": 41,
     "metadata": {},
     "output_type": "execute_result"
    }
   ],
   "source": [
    "day.trade_size.sum()"
   ]
  },
  {
   "cell_type": "code",
   "execution_count": 15,
   "metadata": {},
   "outputs": [
    {
     "data": {
      "text/html": [
       "<div>\n",
       "<style scoped>\n",
       "    .dataframe tbody tr th:only-of-type {\n",
       "        vertical-align: middle;\n",
       "    }\n",
       "\n",
       "    .dataframe tbody tr th {\n",
       "        vertical-align: top;\n",
       "    }\n",
       "\n",
       "    .dataframe thead th {\n",
       "        text-align: right;\n",
       "    }\n",
       "</style>\n",
       "<table border=\"1\" class=\"dataframe\">\n",
       "  <thead>\n",
       "    <tr style=\"text-align: right;\">\n",
       "      <th></th>\n",
       "      <th>exch</th>\n",
       "      <th>bid_px</th>\n",
       "      <th>bid_size</th>\n",
       "      <th>ask_px</th>\n",
       "      <th>ask_size</th>\n",
       "      <th>symbol</th>\n",
       "      <th>suffix_x</th>\n",
       "      <th>suffix_y</th>\n",
       "      <th>size</th>\n",
       "      <th>price</th>\n",
       "    </tr>\n",
       "  </thead>\n",
       "  <tbody>\n",
       "    <tr>\n",
       "      <td>2019-08-30 15:59:59.991016490</td>\n",
       "      <td>Z</td>\n",
       "      <td>225.55</td>\n",
       "      <td>1.0</td>\n",
       "      <td>225.62</td>\n",
       "      <td>1.0</td>\n",
       "      <td>TSLA</td>\n",
       "      <td>NaN</td>\n",
       "      <td>NaN</td>\n",
       "      <td>NaN</td>\n",
       "      <td>NaN</td>\n",
       "    </tr>\n",
       "    <tr>\n",
       "      <td>2019-08-30 15:59:59.991034985</td>\n",
       "      <td>Z</td>\n",
       "      <td>225.56</td>\n",
       "      <td>1.0</td>\n",
       "      <td>225.62</td>\n",
       "      <td>1.0</td>\n",
       "      <td>TSLA</td>\n",
       "      <td>NaN</td>\n",
       "      <td>NaN</td>\n",
       "      <td>NaN</td>\n",
       "      <td>NaN</td>\n",
       "    </tr>\n",
       "    <tr>\n",
       "      <td>2019-08-30 15:59:59.991902659</td>\n",
       "      <td>Z</td>\n",
       "      <td>225.56</td>\n",
       "      <td>1.0</td>\n",
       "      <td>225.62</td>\n",
       "      <td>2.0</td>\n",
       "      <td>TSLA</td>\n",
       "      <td>NaN</td>\n",
       "      <td>NaN</td>\n",
       "      <td>NaN</td>\n",
       "      <td>NaN</td>\n",
       "    </tr>\n",
       "    <tr>\n",
       "      <td>2019-08-30 15:59:59.993930363</td>\n",
       "      <td>Z</td>\n",
       "      <td>225.56</td>\n",
       "      <td>1.0</td>\n",
       "      <td>225.62</td>\n",
       "      <td>1.0</td>\n",
       "      <td>TSLA</td>\n",
       "      <td>NaN</td>\n",
       "      <td>NaN</td>\n",
       "      <td>NaN</td>\n",
       "      <td>NaN</td>\n",
       "    </tr>\n",
       "    <tr>\n",
       "      <td>2019-08-30 15:59:59.994803816</td>\n",
       "      <td>Z</td>\n",
       "      <td>225.56</td>\n",
       "      <td>1.0</td>\n",
       "      <td>225.62</td>\n",
       "      <td>2.0</td>\n",
       "      <td>TSLA</td>\n",
       "      <td>NaN</td>\n",
       "      <td>NaN</td>\n",
       "      <td>NaN</td>\n",
       "      <td>NaN</td>\n",
       "    </tr>\n",
       "  </tbody>\n",
       "</table>\n",
       "</div>"
      ],
      "text/plain": [
       "                              exch  bid_px  bid_size  ask_px  ask_size symbol  \\\n",
       "2019-08-30 15:59:59.991016490    Z  225.55       1.0  225.62       1.0   TSLA   \n",
       "2019-08-30 15:59:59.991034985    Z  225.56       1.0  225.62       1.0   TSLA   \n",
       "2019-08-30 15:59:59.991902659    Z  225.56       1.0  225.62       2.0   TSLA   \n",
       "2019-08-30 15:59:59.993930363    Z  225.56       1.0  225.62       1.0   TSLA   \n",
       "2019-08-30 15:59:59.994803816    Z  225.56       1.0  225.62       2.0   TSLA   \n",
       "\n",
       "                               suffix_x  suffix_y  size  price  \n",
       "2019-08-30 15:59:59.991016490       NaN       NaN   NaN    NaN  \n",
       "2019-08-30 15:59:59.991034985       NaN       NaN   NaN    NaN  \n",
       "2019-08-30 15:59:59.991902659       NaN       NaN   NaN    NaN  \n",
       "2019-08-30 15:59:59.993930363       NaN       NaN   NaN    NaN  \n",
       "2019-08-30 15:59:59.994803816       NaN       NaN   NaN    NaN  "
      ]
     },
     "execution_count": 15,
     "metadata": {},
     "output_type": "execute_result"
    }
   ],
   "source": [
    "day.tail()"
   ]
  },
  {
   "cell_type": "code",
   "execution_count": 26,
   "metadata": {},
   "outputs": [
    {
     "data": {
      "text/plain": [
       "8419878.0"
      ]
     },
     "execution_count": 26,
     "metadata": {},
     "output_type": "execute_result"
    }
   ],
   "source": [
    "day[pd.notna(day.price)]['size'].sum()"
   ]
  },
  {
   "cell_type": "code",
   "execution_count": null,
   "metadata": {},
   "outputs": [],
   "source": []
  }
 ],
 "metadata": {
  "kernelspec": {
   "display_name": "Python 3",
   "language": "python",
   "name": "python3"
  },
  "language_info": {
   "codemirror_mode": {
    "name": "ipython",
    "version": 3
   },
   "file_extension": ".py",
   "mimetype": "text/x-python",
   "name": "python",
   "nbconvert_exporter": "python",
   "pygments_lexer": "ipython3",
   "version": "3.7.4"
  }
 },
 "nbformat": 4,
 "nbformat_minor": 4
}
