{
 "cells": [
  {
   "cell_type": "markdown",
   "metadata": {},
   "source": [
    "# Working with Tick Data 1"
   ]
  },
  {
   "cell_type": "code",
   "execution_count": null,
   "metadata": {},
   "outputs": [],
   "source": [
    "%matplotlib inline\n",
    "\n",
    "import datetime\n",
    "import matplotlib\n",
    "import matplotlib.pyplot as plt\n",
    "import numpy as np\n",
    "import pandas as pd\n",
    "import time\n",
    "\n",
    "matplotlib.rcParams[ 'figure.figsize' ] = ( 14, 6 )\n",
    "\n",
    "def show_time( label_string ):\n",
    "    ts = time.time()\n",
    "    st = datetime.datetime.fromtimestamp( ts ).strftime( '%Y-%m-%d %H:%M:%S:%f' )\n",
    "    print( label_string + ' : ' + st )"
   ]
  },
  {
   "cell_type": "markdown",
   "metadata": {},
   "source": [
    "## Trade Data"
   ]
  },
  {
   "cell_type": "code",
   "execution_count": null,
   "metadata": {},
   "outputs": [],
   "source": [
    "show_time( 'load trades' )\n",
    "trades = pd.read_csv('TSLA-trades-aug19v2.zip', infer_datetime_format=True)\n",
    "show_time( 'load complete' )"
   ]
  },
  {
   "cell_type": "code",
   "execution_count": null,
   "metadata": {},
   "outputs": [],
   "source": [
    "len(trades)"
   ]
  },
  {
   "cell_type": "code",
   "execution_count": null,
   "metadata": {},
   "outputs": [],
   "source": [
    "trades.head()"
   ]
  },
  {
   "cell_type": "code",
   "execution_count": null,
   "metadata": {},
   "outputs": [],
   "source": [
    "show_time( 'indexing trades' )\n",
    "format = '%Y%m%d%H:%M:%S.%f'\n",
    "\n",
    "# fix padding on time\n",
    "times = trades['TIME_M'].apply(lambda x: x.zfill(18))\n",
    "timestamps = trades['DATE'].astype(str) + times\n",
    "times = pd.to_datetime( timestamps, format = format )\n",
    "trades.index = times\n",
    "trades = trades.drop(columns=['DATE', 'TIME_M'])\n",
    "show_time( \"index trades done\" )"
   ]
  },
  {
   "cell_type": "code",
   "execution_count": null,
   "metadata": {},
   "outputs": [],
   "source": [
    "trades['2019-08-01']"
   ]
  },
  {
   "cell_type": "markdown",
   "metadata": {},
   "source": [
    "## Quote Data"
   ]
  },
  {
   "cell_type": "code",
   "execution_count": null,
   "metadata": {},
   "outputs": [],
   "source": [
    "# now let's get quotes\n",
    "show_time( 'load quotes' )\n",
    "quotes = pd.read_csv('TSLA-quotes-aug19v2.zip')\n",
    "show_time( 'load complete' )"
   ]
  },
  {
   "cell_type": "code",
   "execution_count": null,
   "metadata": {},
   "outputs": [],
   "source": [
    "len(quotes)"
   ]
  },
  {
   "cell_type": "code",
   "execution_count": null,
   "metadata": {},
   "outputs": [],
   "source": [
    "quotes.head()"
   ]
  },
  {
   "cell_type": "code",
   "execution_count": null,
   "metadata": {},
   "outputs": [],
   "source": [
    "show_time( 'indexing quotes' )\n",
    "format = '%Y%m%d%H:%M:%S.%f'\n",
    "\n",
    "# fix padding on time\n",
    "times = quotes['TIME_M'].apply(lambda x: x.zfill(18))\n",
    "timestamps = quotes['DATE'].astype(str) + times\n",
    "times = pd.to_datetime( timestamps, format = format )\n",
    "quotes.index = times\n",
    "quotes = quotes.drop(columns=['DATE', 'TIME_M'])\n",
    "show_time( \"index quotes done\" )"
   ]
  },
  {
   "cell_type": "code",
   "execution_count": null,
   "metadata": {},
   "outputs": [],
   "source": [
    "quotes.head()"
   ]
  },
  {
   "cell_type": "code",
   "execution_count": null,
   "metadata": {},
   "outputs": [],
   "source": [
    "quotes['2019-08-01 09:30:00':'2019-08-01 09:32:00']"
   ]
  },
  {
   "cell_type": "markdown",
   "metadata": {},
   "source": [
    "## Merging Tick and Quote data\n",
    "For simulation we will need to merge this data into one continuous stream..."
   ]
  },
  {
   "cell_type": "code",
   "execution_count": null,
   "metadata": {},
   "outputs": [],
   "source": [
    "# now merge quote and tick data\n",
    "show_time( 'start merge' )\n",
    "taq = quotes.merge( trades, how = 'outer', on = 'SYM_ROOT', left_index = True, right_index = True )\n",
    "show_time( 'end merge' )"
   ]
  },
  {
   "cell_type": "code",
   "execution_count": null,
   "metadata": {},
   "outputs": [],
   "source": [
    "taq.head()"
   ]
  },
  {
   "cell_type": "code",
   "execution_count": null,
   "metadata": {},
   "outputs": [],
   "source": [
    "trades['2019-08-30']['PRICE'].plot()"
   ]
  },
  {
   "cell_type": "code",
   "execution_count": null,
   "metadata": {},
   "outputs": [],
   "source": []
  }
 ],
 "metadata": {
  "kernelspec": {
   "display_name": "Python 3",
   "language": "python",
   "name": "python3"
  },
  "language_info": {
   "codemirror_mode": {
    "name": "ipython",
    "version": 3
   },
   "file_extension": ".py",
   "mimetype": "text/x-python",
   "name": "python",
   "nbconvert_exporter": "python",
   "pygments_lexer": "ipython3",
   "version": "3.7.4"
  }
 },
 "nbformat": 4,
 "nbformat_minor": 4
}
