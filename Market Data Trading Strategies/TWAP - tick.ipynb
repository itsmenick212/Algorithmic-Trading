{
 "cells": [
  {
   "cell_type": "markdown",
   "metadata": {},
   "source": [
    "# TWAP implementation\n",
    "_Version 1.0_"
   ]
  },
  {
   "cell_type": "code",
   "execution_count": 28,
   "metadata": {},
   "outputs": [],
   "source": [
    "%matplotlib inline\n",
    "\n",
    "import matplotlib\n",
    "import matplotlib.pyplot as plt\n",
    "import pandas as pd\n",
    "\n",
    "# load our helper functios\n",
    "%run simtools.py\n",
    "\n",
    "from pandas.plotting import register_matplotlib_converters\n",
    "register_matplotlib_converters()\n",
    "\n",
    "matplotlib.rcParams[ 'figure.figsize' ] = ( 16, 9 )"
   ]
  },
  {
   "cell_type": "markdown",
   "metadata": {},
   "source": [
    "### Load Merged Data\n",
    "\n",
    "We'll assume we have already done some cleaning by using our Tick Data Setup or similar code"
   ]
  },
  {
   "cell_type": "code",
   "execution_count": 2,
   "metadata": {},
   "outputs": [],
   "source": [
    "# set up some variables\n",
    "tickfile = 'TSLA-TAQ-aug19.zip'\n",
    "test_day = '2019-08-30'"
   ]
  },
  {
   "cell_type": "code",
   "execution_count": 3,
   "metadata": {},
   "outputs": [],
   "source": [
    "# load tick data\n",
    "taq = pd.read_pickle(tickfile)"
   ]
  },
  {
   "cell_type": "code",
   "execution_count": 4,
   "metadata": {},
   "outputs": [
    {
     "data": {
      "text/plain": [
       "10313405"
      ]
     },
     "execution_count": 4,
     "metadata": {},
     "output_type": "execute_result"
    }
   ],
   "source": [
    "len(taq)"
   ]
  },
  {
   "cell_type": "code",
   "execution_count": 5,
   "metadata": {},
   "outputs": [
    {
     "data": {
      "text/html": [
       "<div>\n",
       "<style scoped>\n",
       "    .dataframe tbody tr th:only-of-type {\n",
       "        vertical-align: middle;\n",
       "    }\n",
       "\n",
       "    .dataframe tbody tr th {\n",
       "        vertical-align: top;\n",
       "    }\n",
       "\n",
       "    .dataframe thead th {\n",
       "        text-align: right;\n",
       "    }\n",
       "</style>\n",
       "<table border=\"1\" class=\"dataframe\">\n",
       "  <thead>\n",
       "    <tr style=\"text-align: right;\">\n",
       "      <th></th>\n",
       "      <th>exch</th>\n",
       "      <th>bid_px</th>\n",
       "      <th>bid_size</th>\n",
       "      <th>ask_px</th>\n",
       "      <th>ask_size</th>\n",
       "      <th>symbol</th>\n",
       "      <th>suffix_x</th>\n",
       "      <th>suffix_y</th>\n",
       "      <th>trade_size</th>\n",
       "      <th>trade_px</th>\n",
       "    </tr>\n",
       "  </thead>\n",
       "  <tbody>\n",
       "    <tr>\n",
       "      <td>2019-08-30 15:59:59.991016490</td>\n",
       "      <td>Z</td>\n",
       "      <td>225.55</td>\n",
       "      <td>1.0</td>\n",
       "      <td>225.62</td>\n",
       "      <td>1.0</td>\n",
       "      <td>TSLA</td>\n",
       "      <td>NaN</td>\n",
       "      <td>NaN</td>\n",
       "      <td>NaN</td>\n",
       "      <td>NaN</td>\n",
       "    </tr>\n",
       "    <tr>\n",
       "      <td>2019-08-30 15:59:59.991034985</td>\n",
       "      <td>Z</td>\n",
       "      <td>225.56</td>\n",
       "      <td>1.0</td>\n",
       "      <td>225.62</td>\n",
       "      <td>1.0</td>\n",
       "      <td>TSLA</td>\n",
       "      <td>NaN</td>\n",
       "      <td>NaN</td>\n",
       "      <td>NaN</td>\n",
       "      <td>NaN</td>\n",
       "    </tr>\n",
       "    <tr>\n",
       "      <td>2019-08-30 15:59:59.991902659</td>\n",
       "      <td>Z</td>\n",
       "      <td>225.56</td>\n",
       "      <td>1.0</td>\n",
       "      <td>225.62</td>\n",
       "      <td>2.0</td>\n",
       "      <td>TSLA</td>\n",
       "      <td>NaN</td>\n",
       "      <td>NaN</td>\n",
       "      <td>NaN</td>\n",
       "      <td>NaN</td>\n",
       "    </tr>\n",
       "    <tr>\n",
       "      <td>2019-08-30 15:59:59.993930363</td>\n",
       "      <td>Z</td>\n",
       "      <td>225.56</td>\n",
       "      <td>1.0</td>\n",
       "      <td>225.62</td>\n",
       "      <td>1.0</td>\n",
       "      <td>TSLA</td>\n",
       "      <td>NaN</td>\n",
       "      <td>NaN</td>\n",
       "      <td>NaN</td>\n",
       "      <td>NaN</td>\n",
       "    </tr>\n",
       "    <tr>\n",
       "      <td>2019-08-30 15:59:59.994803816</td>\n",
       "      <td>Z</td>\n",
       "      <td>225.56</td>\n",
       "      <td>1.0</td>\n",
       "      <td>225.62</td>\n",
       "      <td>2.0</td>\n",
       "      <td>TSLA</td>\n",
       "      <td>NaN</td>\n",
       "      <td>NaN</td>\n",
       "      <td>NaN</td>\n",
       "      <td>NaN</td>\n",
       "    </tr>\n",
       "  </tbody>\n",
       "</table>\n",
       "</div>"
      ],
      "text/plain": [
       "                              exch  bid_px  bid_size  ask_px  ask_size symbol  \\\n",
       "2019-08-30 15:59:59.991016490    Z  225.55       1.0  225.62       1.0   TSLA   \n",
       "2019-08-30 15:59:59.991034985    Z  225.56       1.0  225.62       1.0   TSLA   \n",
       "2019-08-30 15:59:59.991902659    Z  225.56       1.0  225.62       2.0   TSLA   \n",
       "2019-08-30 15:59:59.993930363    Z  225.56       1.0  225.62       1.0   TSLA   \n",
       "2019-08-30 15:59:59.994803816    Z  225.56       1.0  225.62       2.0   TSLA   \n",
       "\n",
       "                               suffix_x  suffix_y  trade_size  trade_px  \n",
       "2019-08-30 15:59:59.991016490       NaN       NaN         NaN       NaN  \n",
       "2019-08-30 15:59:59.991034985       NaN       NaN         NaN       NaN  \n",
       "2019-08-30 15:59:59.991902659       NaN       NaN         NaN       NaN  \n",
       "2019-08-30 15:59:59.993930363       NaN       NaN         NaN       NaN  \n",
       "2019-08-30 15:59:59.994803816       NaN       NaN         NaN       NaN  "
      ]
     },
     "execution_count": 5,
     "metadata": {},
     "output_type": "execute_result"
    }
   ],
   "source": [
    "taq.tail()"
   ]
  },
  {
   "cell_type": "code",
   "execution_count": 6,
   "metadata": {},
   "outputs": [],
   "source": [
    "# filter on date\n",
    "day = taq[test_day]"
   ]
  },
  {
   "cell_type": "code",
   "execution_count": 13,
   "metadata": {},
   "outputs": [
    {
     "data": {
      "text/html": [
       "<div>\n",
       "<style scoped>\n",
       "    .dataframe tbody tr th:only-of-type {\n",
       "        vertical-align: middle;\n",
       "    }\n",
       "\n",
       "    .dataframe tbody tr th {\n",
       "        vertical-align: top;\n",
       "    }\n",
       "\n",
       "    .dataframe thead th {\n",
       "        text-align: right;\n",
       "    }\n",
       "</style>\n",
       "<table border=\"1\" class=\"dataframe\">\n",
       "  <thead>\n",
       "    <tr style=\"text-align: right;\">\n",
       "      <th></th>\n",
       "      <th>exch</th>\n",
       "      <th>bid_px</th>\n",
       "      <th>bid_size</th>\n",
       "      <th>ask_px</th>\n",
       "      <th>ask_size</th>\n",
       "      <th>symbol</th>\n",
       "      <th>suffix_x</th>\n",
       "      <th>suffix_y</th>\n",
       "      <th>trade_size</th>\n",
       "      <th>trade_px</th>\n",
       "    </tr>\n",
       "  </thead>\n",
       "  <tbody>\n",
       "    <tr>\n",
       "      <td>2019-08-30 09:30:00.000435733</td>\n",
       "      <td>K</td>\n",
       "      <td>229.0</td>\n",
       "      <td>11.0</td>\n",
       "      <td>230.00</td>\n",
       "      <td>12.0</td>\n",
       "      <td>TSLA</td>\n",
       "      <td>NaN</td>\n",
       "      <td>NaN</td>\n",
       "      <td>NaN</td>\n",
       "      <td>NaN</td>\n",
       "    </tr>\n",
       "    <tr>\n",
       "      <td>2019-08-30 09:30:00.000507173</td>\n",
       "      <td>Z</td>\n",
       "      <td>229.4</td>\n",
       "      <td>1.0</td>\n",
       "      <td>230.50</td>\n",
       "      <td>4.0</td>\n",
       "      <td>TSLA</td>\n",
       "      <td>NaN</td>\n",
       "      <td>NaN</td>\n",
       "      <td>NaN</td>\n",
       "      <td>NaN</td>\n",
       "    </tr>\n",
       "    <tr>\n",
       "      <td>2019-08-30 09:30:00.001223950</td>\n",
       "      <td>Q</td>\n",
       "      <td>229.0</td>\n",
       "      <td>19.0</td>\n",
       "      <td>229.79</td>\n",
       "      <td>3.0</td>\n",
       "      <td>TSLA</td>\n",
       "      <td>NaN</td>\n",
       "      <td>NaN</td>\n",
       "      <td>NaN</td>\n",
       "      <td>NaN</td>\n",
       "    </tr>\n",
       "    <tr>\n",
       "      <td>2019-08-30 09:30:00.139723704</td>\n",
       "      <td>Z</td>\n",
       "      <td>229.4</td>\n",
       "      <td>1.0</td>\n",
       "      <td>230.50</td>\n",
       "      <td>4.0</td>\n",
       "      <td>TSLA</td>\n",
       "      <td>NaN</td>\n",
       "      <td>NaN</td>\n",
       "      <td>NaN</td>\n",
       "      <td>NaN</td>\n",
       "    </tr>\n",
       "    <tr>\n",
       "      <td>2019-08-30 09:30:00.139732326</td>\n",
       "      <td>Z</td>\n",
       "      <td>229.4</td>\n",
       "      <td>1.0</td>\n",
       "      <td>230.50</td>\n",
       "      <td>4.0</td>\n",
       "      <td>TSLA</td>\n",
       "      <td>NaN</td>\n",
       "      <td>NaN</td>\n",
       "      <td>NaN</td>\n",
       "      <td>NaN</td>\n",
       "    </tr>\n",
       "  </tbody>\n",
       "</table>\n",
       "</div>"
      ],
      "text/plain": [
       "                              exch  bid_px  bid_size  ask_px  ask_size symbol  \\\n",
       "2019-08-30 09:30:00.000435733    K   229.0      11.0  230.00      12.0   TSLA   \n",
       "2019-08-30 09:30:00.000507173    Z   229.4       1.0  230.50       4.0   TSLA   \n",
       "2019-08-30 09:30:00.001223950    Q   229.0      19.0  229.79       3.0   TSLA   \n",
       "2019-08-30 09:30:00.139723704    Z   229.4       1.0  230.50       4.0   TSLA   \n",
       "2019-08-30 09:30:00.139732326    Z   229.4       1.0  230.50       4.0   TSLA   \n",
       "\n",
       "                               suffix_x  suffix_y  trade_size  trade_px  \n",
       "2019-08-30 09:30:00.000435733       NaN       NaN         NaN       NaN  \n",
       "2019-08-30 09:30:00.000507173       NaN       NaN         NaN       NaN  \n",
       "2019-08-30 09:30:00.001223950       NaN       NaN         NaN       NaN  \n",
       "2019-08-30 09:30:00.139723704       NaN       NaN         NaN       NaN  \n",
       "2019-08-30 09:30:00.139732326       NaN       NaN         NaN       NaN  "
      ]
     },
     "execution_count": 13,
     "metadata": {},
     "output_type": "execute_result"
    }
   ],
   "source": [
    "day.head()"
   ]
  },
  {
   "cell_type": "markdown",
   "metadata": {},
   "source": [
    "## Main Processing Loop"
   ]
  },
  {
   "cell_type": "code",
   "execution_count": 38,
   "metadata": {},
   "outputs": [
    {
     "name": "stdout",
     "output_type": "stream",
     "text": [
      "starting main loop : 2019-09-25 00:10:33:909571\n",
      "end main loop : 2019-09-25 00:12:54:527521\n"
     ]
    }
   ],
   "source": [
    "# order parameters will go here\n",
    "order_side = 'b'\n",
    "quantity = 1000000\n",
    "minutes_to_trade = 390\n",
    "slice_size = quantity / minutes_to_trade\n",
    "\n",
    "# ACCUMULATORS AND MARKET STATE DATA\n",
    "# initialize some counters\n",
    "quantity_remaining = quantity\n",
    "current_bar = 0\n",
    "\n",
    "# hold completed trades \n",
    "trade_data = pd.DataFrame( columns = [ 'price' , 'shares' ], index=day.index )\n",
    "\n",
    "# init our price and volume variables\n",
    "[last_price, last_size, bid_price, bid_size, ask_price, ask_size, volume] = np.zeros(7)\n",
    "\n",
    "# maybe a couple more\n",
    "[trade_count, quote_count] = [0, 0]\n",
    "\n",
    "# cumulative volume is nice to have too\n",
    "cumulative_volume = 0\n",
    "\n",
    "# main event loop\n",
    "log_msg('starting main loop')\n",
    "for index, row in day.iterrows() :\n",
    "    # get each row: is it a quote or a trade?\n",
    "    if pd.isna(row.trade_px): # it's a quote\n",
    "        bid_price = row.bid_px\n",
    "        bid_size = row.bid_size\n",
    "        ask_price = row.ask_px\n",
    "        ask_size = row.ask_size\n",
    "        quote_count += 1\n",
    "    else: # it's a trade\n",
    "        last_price = row.trade_px\n",
    "        last_size = row.trade_size\n",
    "        trade_count += 1\n",
    "        cumulative_volume += row.trade_size\n",
    "    \n",
    "    # algo code goes here\n",
    "    # TODO: FIX ALL THIS\n",
    "    # figure out which minute we are in after the open\n",
    "    time_from_open = ( index - pd.Timedelta( hours = 9, minutes = 30 ) )\n",
    "    minutes_from_open = ( time_from_open.hour * 60 ) + time_from_open.minute\n",
    "    \n",
    "    # are we in a new minute?\n",
    "    if ( minutes_from_open > current_bar ):\n",
    "        # increment our bar counter\n",
    "        current_bar = minutes_from_open\n",
    "        \n",
    "        # we should do a trade\n",
    "        if order_side == 'b':\n",
    "            # buy on the offer\n",
    "            new_trade_price = ask_price\n",
    "            new_trade_size = slice_size\n",
    "            \n",
    "            # Accumulate the trade per bin\n",
    "            trade_data.loc[index] = [new_trade_price, new_trade_size]\n",
    "            \n",
    "            #print(\"buy: {0:f} shares at {1:.2f}\".format(new_trade_size, new_trade_price))\n",
    "            \n",
    "        else: # it's a sell\n",
    "            # sell on the bid\n",
    "            new_trade_price = bid_price\n",
    "            new_trade_size = slice_size\n",
    "    \n",
    "            # Accumulate the trade per bin\n",
    "            trade_data.loc[index] = [new_trade_price, new_trade_size]\n",
    "            \n",
    "            #print(\"sell: {0:f} shares at {1:.2f}\".format(new_trade_size, new_trade_price))\n",
    "    \n",
    "        # decrement the remaining qty, and bail out if it's zero\n",
    "        quantity_remaining -= slice_size\n",
    "    \n",
    "    # debug\n",
    "    #print( str(volume) + \" \" + str(new_trade) + \" \" + str(quantity_remaining) )\n",
    "    \n",
    "    if ( quantity_remaining <= 0 ):\n",
    "        print(quantity_remaining)\n",
    "        break\n",
    "    \n",
    "log_msg('end main loop')"
   ]
  },
  {
   "cell_type": "code",
   "execution_count": 22,
   "metadata": {},
   "outputs": [
    {
     "name": "stdout",
     "output_type": "stream",
     "text": [
      "total quote messages: 433,338\n",
      "total trade messages: 83,663\n",
      "total shares trades: 8,419,878.0\n"
     ]
    }
   ],
   "source": [
    "print(\"total quote messages: {:,}\".format(quote_count))\n",
    "print(\"total trade messages: {:,}\".format(trade_count))\n",
    "print(\"total shares trades: {:,}\".format(cumulative_volume))"
   ]
  },
  {
   "cell_type": "markdown",
   "metadata": {},
   "source": [
    "### Summary Stats of TWAP Order"
   ]
  },
  {
   "cell_type": "code",
   "execution_count": 25,
   "metadata": {},
   "outputs": [
    {
     "name": "stdout",
     "output_type": "stream",
     "text": [
      "Avg Price: 226.6456\n"
     ]
    }
   ],
   "source": [
    "# average trade price\n",
    "pavg = ( trade_data[ 'price' ] * trade_data[ 'shares' ] ).sum() /  trade_data[ 'shares' ].sum()\n",
    "\n",
    "#slippage =  ( ( vwap - pavg ) / vwap ) * 10000\n",
    "\n",
    "# calculate VWAP\n",
    "#vwap = ( day['close'] * day['volume'] ).sum() / day['volume'].sum()\n",
    "\n",
    "#slippage =  ( ( vwap - pavg ) / vwap ) * 10000\n",
    "\n",
    "print( \"Avg Price: {:.4f}\".format(pavg) )\n",
    "#print( \"VWAP: {:.4f}\".format(vwap) )\n",
    "#print( \"Performance vs Day VWAP in bps: {:.4f}\".format(slippage) )"
   ]
  },
  {
   "cell_type": "code",
   "execution_count": 33,
   "metadata": {},
   "outputs": [
    {
     "data": {
      "image/png": "[encoded data removed]",
      "text/plain": [
       "<Figure size 1152x648 with 1 Axes>"
      ]
     },
     "metadata": {
      "needs_background": "light"
     },
     "output_type": "display_data"
    }
   ],
   "source": [
    "# let's see what we got\n",
    "fig, ax = plt.subplots(figsize=(16,9))\n",
    "ax.plot(day.trade_px, 'b-')\n",
    "ax.plot(trade_data.price, 'r-')\n",
    "plt.show()"
   ]
  },
  {
   "cell_type": "code",
   "execution_count": 36,
   "metadata": {},
   "outputs": [
    {
     "data": {
      "text/html": [
       "<div>\n",
       "<style scoped>\n",
       "    .dataframe tbody tr th:only-of-type {\n",
       "        vertical-align: middle;\n",
       "    }\n",
       "\n",
       "    .dataframe tbody tr th {\n",
       "        vertical-align: top;\n",
       "    }\n",
       "\n",
       "    .dataframe thead th {\n",
       "        text-align: right;\n",
       "    }\n",
       "</style>\n",
       "<table border=\"1\" class=\"dataframe\">\n",
       "  <thead>\n",
       "    <tr style=\"text-align: right;\">\n",
       "      <th></th>\n",
       "      <th>price</th>\n",
       "      <th>shares</th>\n",
       "    </tr>\n",
       "  </thead>\n",
       "  <tbody>\n",
       "    <tr>\n",
       "      <td>2019-08-30 09:32:00.000806860</td>\n",
       "      <td>229.95</td>\n",
       "      <td>2564.1</td>\n",
       "    </tr>\n",
       "    <tr>\n",
       "      <td>2019-08-30 09:33:00.032543152</td>\n",
       "      <td>231.73</td>\n",
       "      <td>2564.1</td>\n",
       "    </tr>\n",
       "    <tr>\n",
       "      <td>2019-08-30 09:34:00.000838649</td>\n",
       "      <td>231.33</td>\n",
       "      <td>2564.1</td>\n",
       "    </tr>\n",
       "    <tr>\n",
       "      <td>2019-08-30 09:35:00.007770713</td>\n",
       "      <td>230.88</td>\n",
       "      <td>2564.1</td>\n",
       "    </tr>\n",
       "    <tr>\n",
       "      <td>2019-08-30 09:36:00.005515785</td>\n",
       "      <td>231.58</td>\n",
       "      <td>2564.1</td>\n",
       "    </tr>\n",
       "    <tr>\n",
       "      <td>...</td>\n",
       "      <td>...</td>\n",
       "      <td>...</td>\n",
       "    </tr>\n",
       "    <tr>\n",
       "      <td>2019-08-30 15:55:00.027744107</td>\n",
       "      <td>238.51</td>\n",
       "      <td>2564.1</td>\n",
       "    </tr>\n",
       "    <tr>\n",
       "      <td>2019-08-30 15:56:00.015945707</td>\n",
       "      <td>225.66</td>\n",
       "      <td>2564.1</td>\n",
       "    </tr>\n",
       "    <tr>\n",
       "      <td>2019-08-30 15:57:00.182101628</td>\n",
       "      <td>225.3</td>\n",
       "      <td>2564.1</td>\n",
       "    </tr>\n",
       "    <tr>\n",
       "      <td>2019-08-30 15:58:00.060857737</td>\n",
       "      <td>225.41</td>\n",
       "      <td>2564.1</td>\n",
       "    </tr>\n",
       "    <tr>\n",
       "      <td>2019-08-30 15:59:00.011089944</td>\n",
       "      <td>225.44</td>\n",
       "      <td>2564.1</td>\n",
       "    </tr>\n",
       "  </tbody>\n",
       "</table>\n",
       "<p>388 rows × 2 columns</p>\n",
       "</div>"
      ],
      "text/plain": [
       "                                price  shares\n",
       "2019-08-30 09:32:00.000806860  229.95  2564.1\n",
       "2019-08-30 09:33:00.032543152  231.73  2564.1\n",
       "2019-08-30 09:34:00.000838649  231.33  2564.1\n",
       "2019-08-30 09:35:00.007770713  230.88  2564.1\n",
       "2019-08-30 09:36:00.005515785  231.58  2564.1\n",
       "...                               ...     ...\n",
       "2019-08-30 15:55:00.027744107  238.51  2564.1\n",
       "2019-08-30 15:56:00.015945707  225.66  2564.1\n",
       "2019-08-30 15:57:00.182101628   225.3  2564.1\n",
       "2019-08-30 15:58:00.060857737  225.41  2564.1\n",
       "2019-08-30 15:59:00.011089944  225.44  2564.1\n",
       "\n",
       "[388 rows x 2 columns]"
      ]
     },
     "execution_count": 36,
     "metadata": {},
     "output_type": "execute_result"
    }
   ],
   "source": [
    "trade_data[pd.notna(trade_data.price)]"
   ]
  },
  {
   "cell_type": "code",
   "execution_count": null,
   "metadata": {},
   "outputs": [],
   "source": []
  }
 ],
 "metadata": {
  "kernelspec": {
   "display_name": "Python 3",
   "language": "python",
   "name": "python3"
  },
  "language_info": {
   "codemirror_mode": {
    "name": "ipython",
    "version": 3
   },
   "file_extension": ".py",
   "mimetype": "text/x-python",
   "name": "python",
   "nbconvert_exporter": "python",
   "pygments_lexer": "ipython3",
   "version": "3.7.4"
  }
 },
 "nbformat": 4,
 "nbformat_minor": 4
}
