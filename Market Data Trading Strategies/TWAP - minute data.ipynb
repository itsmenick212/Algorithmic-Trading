{
 "cells": [
  {
   "cell_type": "markdown",
   "metadata": {},
   "source": [
    "# Time-Weighted Average Price (TWAP) v1"
   ]
  },
  {
   "cell_type": "markdown",
   "metadata": {},
   "source": [
    "## Parameters\n",
    "Parameters: &lt;side&gt; &lt;quantity&gt; [limit_px] \n",
    "\n",
    "side = \"b\" (buy) or \"s\" (sell)\n",
    "\n",
    "quantity = # of shares\n",
    "\n",
    "limit_px = limit price (optional)\n",
    "\n",
    "### Structure\n",
    "1. Get market data\n",
    "1. Read order parameters \n",
    "1. Calculate shares per bin to execute\n",
    "1. Initiate loop (reading market data)\n",
    "    1. Read each n bins of data\n",
    "    1. Record a trade at the bin price (last for now)\n",
    "    1. Accumulate the trade per bin\n",
    "1. Calculate and plot summary statistics (average price, slippage vs. vwap, vs. arrival, vs. interval vwap"
   ]
  },
  {
   "cell_type": "code",
   "execution_count": 17,
   "metadata": {},
   "outputs": [],
   "source": [
    "%matplotlib inline\n",
    "\n",
    "import matplotlib\n",
    "import matplotlib.pyplot as plt\n",
    "import numpy as np\n",
    "import pandas as pd\n",
    "\n",
    "%run getstock.py\n",
    "\n",
    "matplotlib.rcParams[ 'figure.figsize' ] = ( 14, 6 )\n",
    "\n",
    "from pandas.plotting import register_matplotlib_converters\n",
    "register_matplotlib_converters()"
   ]
  },
  {
   "cell_type": "code",
   "execution_count": 12,
   "metadata": {},
   "outputs": [],
   "source": [
    "# get our market data, plot it to sanity check\n",
    "bars = getMinuteStockPrices('AAPL')\n",
    "day = bars['2019-09-18']"
   ]
  },
  {
   "cell_type": "code",
   "execution_count": 13,
   "metadata": {},
   "outputs": [
    {
     "data": {
      "text/html": [
       "<div>\n",
       "<style scoped>\n",
       "    .dataframe tbody tr th:only-of-type {\n",
       "        vertical-align: middle;\n",
       "    }\n",
       "\n",
       "    .dataframe tbody tr th {\n",
       "        vertical-align: top;\n",
       "    }\n",
       "\n",
       "    .dataframe thead th {\n",
       "        text-align: right;\n",
       "    }\n",
       "</style>\n",
       "<table border=\"1\" class=\"dataframe\">\n",
       "  <thead>\n",
       "    <tr style=\"text-align: right;\">\n",
       "      <th></th>\n",
       "      <th>open</th>\n",
       "      <th>high</th>\n",
       "      <th>low</th>\n",
       "      <th>close</th>\n",
       "      <th>volume</th>\n",
       "    </tr>\n",
       "    <tr>\n",
       "      <th>timestamp</th>\n",
       "      <th></th>\n",
       "      <th></th>\n",
       "      <th></th>\n",
       "      <th></th>\n",
       "      <th></th>\n",
       "    </tr>\n",
       "  </thead>\n",
       "  <tbody>\n",
       "    <tr>\n",
       "      <td>2019-09-18 09:31:00</td>\n",
       "      <td>221.0182</td>\n",
       "      <td>221.4873</td>\n",
       "      <td>220.8868</td>\n",
       "      <td>221.1482</td>\n",
       "      <td>646811</td>\n",
       "    </tr>\n",
       "    <tr>\n",
       "      <td>2019-09-18 09:32:00</td>\n",
       "      <td>221.1100</td>\n",
       "      <td>221.1100</td>\n",
       "      <td>220.9600</td>\n",
       "      <td>220.9600</td>\n",
       "      <td>111530</td>\n",
       "    </tr>\n",
       "    <tr>\n",
       "      <td>2019-09-18 09:33:00</td>\n",
       "      <td>221.0300</td>\n",
       "      <td>221.0300</td>\n",
       "      <td>220.9200</td>\n",
       "      <td>220.9200</td>\n",
       "      <td>85929</td>\n",
       "    </tr>\n",
       "    <tr>\n",
       "      <td>2019-09-18 09:34:00</td>\n",
       "      <td>220.9400</td>\n",
       "      <td>221.5000</td>\n",
       "      <td>220.9400</td>\n",
       "      <td>221.5000</td>\n",
       "      <td>227425</td>\n",
       "    </tr>\n",
       "    <tr>\n",
       "      <td>2019-09-18 09:35:00</td>\n",
       "      <td>221.4500</td>\n",
       "      <td>221.5500</td>\n",
       "      <td>221.4500</td>\n",
       "      <td>221.5300</td>\n",
       "      <td>153545</td>\n",
       "    </tr>\n",
       "  </tbody>\n",
       "</table>\n",
       "</div>"
      ],
      "text/plain": [
       "                         open      high       low     close  volume\n",
       "timestamp                                                          \n",
       "2019-09-18 09:31:00  221.0182  221.4873  220.8868  221.1482  646811\n",
       "2019-09-18 09:32:00  221.1100  221.1100  220.9600  220.9600  111530\n",
       "2019-09-18 09:33:00  221.0300  221.0300  220.9200  220.9200   85929\n",
       "2019-09-18 09:34:00  220.9400  221.5000  220.9400  221.5000  227425\n",
       "2019-09-18 09:35:00  221.4500  221.5500  221.4500  221.5300  153545"
      ]
     },
     "execution_count": 13,
     "metadata": {},
     "output_type": "execute_result"
    }
   ],
   "source": [
    "day.head()"
   ]
  },
  {
   "cell_type": "markdown",
   "metadata": {},
   "source": [
    "## Time-Weighted Average Price (TWAP) v1.0"
   ]
  },
  {
   "cell_type": "code",
   "execution_count": 14,
   "metadata": {},
   "outputs": [],
   "source": [
    "# order parameters\n",
    "# order quantity in shares\n",
    "quantity = 1000000\n",
    "\n",
    "# initialize some counters\n",
    "quantity_remaining = quantity\n",
    "trades = pd.DataFrame( columns = [ 'price' , 'shares'], index=day.index )\n",
    "\n",
    "# v1.0 \n",
    "# assume this is a full day order\n",
    "# use 1 minute bins\n",
    "n_bins = 390\n",
    "slice_size = quantity / n_bins\n",
    "\n",
    "# main event loop\n",
    "for index, row in day.iterrows() :\n",
    "    # Read each bin of data\n",
    "    px = ( row['high'] + row['low'] ) / 2 # calculate midpoint of that bar\n",
    "    volume = row[ 'volume' ]\n",
    "    \n",
    "    # Calculate % of volume and bin price (last for now)\n",
    "    new_trade = slice_size\n",
    "    \n",
    "    # Accumulate the trade per bin\n",
    "    trades.loc[index] = [ px, new_trade ]\n",
    "    \n",
    "    # decrement the remaining qty, and bail out if it's zero\n",
    "    quantity_remaining -= new_trade\n",
    "    \n",
    "    # debug\n",
    "    #print( str(volume) + \" \" + str(new_trade) + \" \" + str(quantity_remaining) )\n",
    "    \n",
    "    if ( quantity_remaining <= 0 ):\n",
    "        break"
   ]
  },
  {
   "cell_type": "code",
   "execution_count": 15,
   "metadata": {},
   "outputs": [
    {
     "data": {
      "text/plain": [
       "1000000.0000000102"
      ]
     },
     "execution_count": 15,
     "metadata": {},
     "output_type": "execute_result"
    }
   ],
   "source": [
    "trades['shares'].sum()"
   ]
  },
  {
   "cell_type": "markdown",
   "metadata": {},
   "source": [
    "### Performance Analysis of TWAP"
   ]
  },
  {
   "cell_type": "code",
   "execution_count": 19,
   "metadata": {},
   "outputs": [
    {
     "data": {
      "image/png": "[encoded data removed]",
      "text/plain": [
       "<Figure size 1008x432 with 1 Axes>"
      ]
     },
     "metadata": {
      "needs_background": "light"
     },
     "output_type": "display_data"
    }
   ],
   "source": [
    "trade_results = pd.DataFrame(index = day.index)\n",
    "trade_results['mkt_px'] = pd.Series(day['close'])\n",
    "trade_results['trade_px'] = pd.Series(trades['price'])\n",
    "plt.plot( trade_results )\n",
    "plt.show()"
   ]
  },
  {
   "cell_type": "markdown",
   "metadata": {},
   "source": [
    "### Summary Stats of TWAP Order"
   ]
  },
  {
   "cell_type": "code",
   "execution_count": 22,
   "metadata": {},
   "outputs": [
    {
     "name": "stdout",
     "output_type": "stream",
     "text": [
      "Avg Price: 221.5123\n",
      "VWAP: 221.5119\n",
      "Performance vs Day VWAP in bps: -0.0178\n"
     ]
    }
   ],
   "source": [
    "# average trade price\n",
    "pavg = ( trades['price'] * trades['shares'] ).sum() /  trades['shares'].sum()\n",
    "\n",
    "# calculate VWAP\n",
    "vwap = ( day['close'] * day['volume'] ).sum() / day['volume'].sum()\n",
    "\n",
    "slippage =  ( ( vwap - pavg ) / vwap ) * 10000\n",
    "\n",
    "print( \"Avg Price: {:.4f}\".format(pavg) )\n",
    "print( \"VWAP: {:.4f}\".format(vwap) )\n",
    "print( \"Performance vs Day VWAP in bps: {:.4f}\".format(slippage) )"
   ]
  },
  {
   "cell_type": "markdown",
   "metadata": {},
   "source": [
    "### Improvements\n",
    "* Support Limit Price\n",
    "* better price simulation\n",
    "* change trade ahead percent based on price (buy slightly more when low, slightly less when high?)\n",
    "* tick data!"
   ]
  },
  {
   "cell_type": "code",
   "execution_count": null,
   "metadata": {},
   "outputs": [],
   "source": []
  }
 ],
 "metadata": {
  "kernelspec": {
   "display_name": "Python 3",
   "language": "python",
   "name": "python3"
  },
  "language_info": {
   "codemirror_mode": {
    "name": "ipython",
    "version": 3
   },
   "file_extension": ".py",
   "mimetype": "text/x-python",
   "name": "python",
   "nbconvert_exporter": "python",
   "pygments_lexer": "ipython3",
   "version": "3.7.4"
  }
 },
 "nbformat": 4,
 "nbformat_minor": 4
}
