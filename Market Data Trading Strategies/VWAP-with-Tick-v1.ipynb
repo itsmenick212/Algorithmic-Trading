{
 "cells": [
  {
   "cell_type": "markdown",
   "metadata": {},
   "source": [
    "# VWAP with Tick Data v1"
   ]
  },
  {
   "cell_type": "markdown",
   "metadata": {},
   "source": [
    "## Parameters\n",
    "Parameters: &lt;side&gt; &lt;quantity&gt; [limit_px]  \n",
    "side = \"b\" (buy) or \"s\" (sell)  \n",
    "quantity = # of shares  \n",
    "limit_px = limit price (optional)  "
   ]
  },
  {
   "cell_type": "code",
   "execution_count": 26,
   "metadata": {},
   "outputs": [],
   "source": [
    "%matplotlib inline\n",
    "\n",
    "import matplotlib\n",
    "import matplotlib.pyplot as plt\n",
    "import numpy as np\n",
    "import pandas as pd\n",
    "import time\n",
    "import datetime\n",
    "\n",
    "matplotlib.rcParams[ 'figure.figsize' ] = ( 14, 6 )\n",
    "\n",
    "def show_time( label_string ):\n",
    "    ts = time.time()\n",
    "    st = datetime.datetime.fromtimestamp( ts ).strftime( '%Y-%m-%d %H:%M:%S:%f' )\n",
    "    print( label_string + ' : ' + st )"
   ]
  },
  {
   "cell_type": "code",
   "execution_count": 27,
   "metadata": {},
   "outputs": [],
   "source": [
    "vwap_coefs = [  7.81292630e-03,  -6.23749840e-05,   3.13654288e-07, -7.63471095e-10,   7.19639892e-13]\n",
    "\n",
    "# use coefs to make our target series\n",
    "def vwap_target( bar_num, coefs ):\n",
    "    return ( coefs[ 0 ] * bar_num + \n",
    "             coefs[ 1 ] * bar_num**2 + \n",
    "             coefs[ 2 ] * bar_num**3 +\n",
    "             coefs[ 3 ] * bar_num**4 +\n",
    "             coefs[ 4 ] * bar_num**5 )"
   ]
  },
  {
   "cell_type": "code",
   "execution_count": 28,
   "metadata": {},
   "outputs": [
    {
     "data": {
      "text/html": [
       "<div>\n",
       "<style scoped>\n",
       "    .dataframe tbody tr th:only-of-type {\n",
       "        vertical-align: middle;\n",
       "    }\n",
       "\n",
       "    .dataframe tbody tr th {\n",
       "        vertical-align: top;\n",
       "    }\n",
       "\n",
       "    .dataframe thead th {\n",
       "        text-align: right;\n",
       "    }\n",
       "</style>\n",
       "<table border=\"1\" class=\"dataframe\">\n",
       "  <thead>\n",
       "    <tr style=\"text-align: right;\">\n",
       "      <th></th>\n",
       "      <th>Exchange</th>\n",
       "      <th>Symbol</th>\n",
       "      <th>Bid_Price</th>\n",
       "      <th>Bid_Size</th>\n",
       "      <th>Offer_Price</th>\n",
       "      <th>Offer_Size</th>\n",
       "      <th>Quote_Condition</th>\n",
       "      <th>Sale Condition</th>\n",
       "      <th>Trade Volume</th>\n",
       "      <th>Trade Price</th>\n",
       "    </tr>\n",
       "    <tr>\n",
       "      <th>Time</th>\n",
       "      <th></th>\n",
       "      <th></th>\n",
       "      <th></th>\n",
       "      <th></th>\n",
       "      <th></th>\n",
       "      <th></th>\n",
       "      <th></th>\n",
       "      <th></th>\n",
       "      <th></th>\n",
       "      <th></th>\n",
       "    </tr>\n",
       "  </thead>\n",
       "  <tbody>\n",
       "    <tr>\n",
       "      <th>2018-01-17 16:00:00.225994751</th>\n",
       "      <td>K</td>\n",
       "      <td>AAPL</td>\n",
       "      <td>179.04</td>\n",
       "      <td>1.0</td>\n",
       "      <td>179.19</td>\n",
       "      <td>3.0</td>\n",
       "      <td>R</td>\n",
       "      <td>NaN</td>\n",
       "      <td>NaN</td>\n",
       "      <td>NaN</td>\n",
       "    </tr>\n",
       "    <tr>\n",
       "      <th>2018-01-17 16:00:00.256103027</th>\n",
       "      <td>P</td>\n",
       "      <td>AAPL</td>\n",
       "      <td>178.97</td>\n",
       "      <td>1.0</td>\n",
       "      <td>179.14</td>\n",
       "      <td>1.0</td>\n",
       "      <td>R</td>\n",
       "      <td>NaN</td>\n",
       "      <td>NaN</td>\n",
       "      <td>NaN</td>\n",
       "    </tr>\n",
       "    <tr>\n",
       "      <th>2018-01-17 16:00:00.279425940</th>\n",
       "      <td>P</td>\n",
       "      <td>AAPL</td>\n",
       "      <td>178.97</td>\n",
       "      <td>1.0</td>\n",
       "      <td>179.21</td>\n",
       "      <td>1.0</td>\n",
       "      <td>R</td>\n",
       "      <td>NaN</td>\n",
       "      <td>NaN</td>\n",
       "      <td>NaN</td>\n",
       "    </tr>\n",
       "    <tr>\n",
       "      <th>2018-01-17 16:00:00.458710938</th>\n",
       "      <td>NaN</td>\n",
       "      <td>AAPL</td>\n",
       "      <td>NaN</td>\n",
       "      <td>NaN</td>\n",
       "      <td>NaN</td>\n",
       "      <td>NaN</td>\n",
       "      <td>NaN</td>\n",
       "      <td>@</td>\n",
       "      <td>259.0</td>\n",
       "      <td>179.1</td>\n",
       "    </tr>\n",
       "    <tr>\n",
       "      <th>2018-01-17 16:00:00.477861757</th>\n",
       "      <td>NaN</td>\n",
       "      <td>AAPL</td>\n",
       "      <td>NaN</td>\n",
       "      <td>NaN</td>\n",
       "      <td>NaN</td>\n",
       "      <td>NaN</td>\n",
       "      <td>NaN</td>\n",
       "      <td>@ TW</td>\n",
       "      <td>314.0</td>\n",
       "      <td>179.1</td>\n",
       "    </tr>\n",
       "  </tbody>\n",
       "</table>\n",
       "</div>"
      ],
      "text/plain": [
       "                              Exchange Symbol  Bid_Price  Bid_Size  \\\n",
       "Time                                                                 \n",
       "2018-01-17 16:00:00.225994751        K   AAPL     179.04       1.0   \n",
       "2018-01-17 16:00:00.256103027        P   AAPL     178.97       1.0   \n",
       "2018-01-17 16:00:00.279425940        P   AAPL     178.97       1.0   \n",
       "2018-01-17 16:00:00.458710938      NaN   AAPL        NaN       NaN   \n",
       "2018-01-17 16:00:00.477861757      NaN   AAPL        NaN       NaN   \n",
       "\n",
       "                               Offer_Price  Offer_Size Quote_Condition  \\\n",
       "Time                                                                     \n",
       "2018-01-17 16:00:00.225994751       179.19         3.0               R   \n",
       "2018-01-17 16:00:00.256103027       179.14         1.0               R   \n",
       "2018-01-17 16:00:00.279425940       179.21         1.0               R   \n",
       "2018-01-17 16:00:00.458710938          NaN         NaN             NaN   \n",
       "2018-01-17 16:00:00.477861757          NaN         NaN             NaN   \n",
       "\n",
       "                              Sale Condition  Trade Volume  Trade Price  \n",
       "Time                                                                     \n",
       "2018-01-17 16:00:00.225994751            NaN           NaN          NaN  \n",
       "2018-01-17 16:00:00.256103027            NaN           NaN          NaN  \n",
       "2018-01-17 16:00:00.279425940            NaN           NaN          NaN  \n",
       "2018-01-17 16:00:00.458710938           @            259.0        179.1  \n",
       "2018-01-17 16:00:00.477861757           @ TW         314.0        179.1  "
      ]
     },
     "execution_count": 28,
     "metadata": {},
     "output_type": "execute_result"
    }
   ],
   "source": [
    "trading_day.tail()"
   ]
  },
  {
   "cell_type": "markdown",
   "metadata": {},
   "source": [
    "### Initialization"
   ]
  },
  {
   "cell_type": "code",
   "execution_count": 29,
   "metadata": {},
   "outputs": [],
   "source": [
    "# get our market data\n",
    "# parsing of our pre-saved data is much simpler. We could also include \n",
    "taq = pd.read_csv( 'AAPL_20180117.gz', index_col = 0, parse_dates = True )\n",
    "\n",
    "# set order parameters\n",
    "order_side = \"s\"\n",
    "order_quantity = 250000\n",
    "# EFTR\n",
    "# order_limit_price = 10.00\n",
    "\n",
    "# generate target schedule - use bins 1 - 390 giving an automatic 1 minute \"look ahead\"\n",
    "# note that targets have been converted to shares from percent\n",
    "order_targets = vwap_target( np.arange( 0, 391 ), vwap_coefs ) * order_quantity"
   ]
  },
  {
   "cell_type": "code",
   "execution_count": 30,
   "metadata": {},
   "outputs": [
    {
     "data": {
      "text/plain": [
       "[<matplotlib.lines.Line2D at 0x12c2eaa58>]"
      ]
     },
     "execution_count": 30,
     "metadata": {},
     "output_type": "execute_result"
    },
    {
     "data": {
      "image/png": "[encoded data removed]",
      "text/plain": [
       "<Figure size 1008x432 with 1 Axes>"
      ]
     },
     "metadata": {
      "needs_background": "light"
     },
     "output_type": "display_data"
    }
   ],
   "source": [
    "plt.plot(order_targets)"
   ]
  },
  {
   "cell_type": "code",
   "execution_count": 33,
   "metadata": {},
   "outputs": [
    {
     "data": {
      "text/html": [
       "<div>\n",
       "<style scoped>\n",
       "    .dataframe tbody tr th:only-of-type {\n",
       "        vertical-align: middle;\n",
       "    }\n",
       "\n",
       "    .dataframe tbody tr th {\n",
       "        vertical-align: top;\n",
       "    }\n",
       "\n",
       "    .dataframe thead th {\n",
       "        text-align: right;\n",
       "    }\n",
       "</style>\n",
       "<table border=\"1\" class=\"dataframe\">\n",
       "  <thead>\n",
       "    <tr style=\"text-align: right;\">\n",
       "      <th></th>\n",
       "      <th>Exchange</th>\n",
       "      <th>Symbol</th>\n",
       "      <th>Bid_Price</th>\n",
       "      <th>Bid_Size</th>\n",
       "      <th>Offer_Price</th>\n",
       "      <th>Offer_Size</th>\n",
       "      <th>Quote_Condition</th>\n",
       "      <th>Sale Condition</th>\n",
       "      <th>Trade Volume</th>\n",
       "      <th>Trade Price</th>\n",
       "    </tr>\n",
       "    <tr>\n",
       "      <th>Time</th>\n",
       "      <th></th>\n",
       "      <th></th>\n",
       "      <th></th>\n",
       "      <th></th>\n",
       "      <th></th>\n",
       "      <th></th>\n",
       "      <th></th>\n",
       "      <th></th>\n",
       "      <th></th>\n",
       "      <th></th>\n",
       "    </tr>\n",
       "  </thead>\n",
       "  <tbody>\n",
       "    <tr>\n",
       "      <th>2018-01-17 04:00:00.015039233</th>\n",
       "      <td>NaN</td>\n",
       "      <td>AAPL</td>\n",
       "      <td>NaN</td>\n",
       "      <td>NaN</td>\n",
       "      <td>NaN</td>\n",
       "      <td>NaN</td>\n",
       "      <td>NaN</td>\n",
       "      <td>@ TI</td>\n",
       "      <td>25.0</td>\n",
       "      <td>174.21</td>\n",
       "    </tr>\n",
       "    <tr>\n",
       "      <th>2018-01-17 04:00:00.015042660</th>\n",
       "      <td>NaN</td>\n",
       "      <td>AAPL</td>\n",
       "      <td>NaN</td>\n",
       "      <td>NaN</td>\n",
       "      <td>NaN</td>\n",
       "      <td>NaN</td>\n",
       "      <td>NaN</td>\n",
       "      <td>@ TI</td>\n",
       "      <td>1.0</td>\n",
       "      <td>174.21</td>\n",
       "    </tr>\n",
       "    <tr>\n",
       "      <th>2018-01-17 04:00:00.015050355</th>\n",
       "      <td>NaN</td>\n",
       "      <td>AAPL</td>\n",
       "      <td>NaN</td>\n",
       "      <td>NaN</td>\n",
       "      <td>NaN</td>\n",
       "      <td>NaN</td>\n",
       "      <td>NaN</td>\n",
       "      <td>@ TI</td>\n",
       "      <td>1.0</td>\n",
       "      <td>174.21</td>\n",
       "    </tr>\n",
       "    <tr>\n",
       "      <th>2018-01-17 04:00:00.015062641</th>\n",
       "      <td>NaN</td>\n",
       "      <td>AAPL</td>\n",
       "      <td>NaN</td>\n",
       "      <td>NaN</td>\n",
       "      <td>NaN</td>\n",
       "      <td>NaN</td>\n",
       "      <td>NaN</td>\n",
       "      <td>@ TI</td>\n",
       "      <td>73.0</td>\n",
       "      <td>174.21</td>\n",
       "    </tr>\n",
       "    <tr>\n",
       "      <th>2018-01-17 04:00:00.015072361</th>\n",
       "      <td>NaN</td>\n",
       "      <td>AAPL</td>\n",
       "      <td>NaN</td>\n",
       "      <td>NaN</td>\n",
       "      <td>NaN</td>\n",
       "      <td>NaN</td>\n",
       "      <td>NaN</td>\n",
       "      <td>@ T</td>\n",
       "      <td>127.0</td>\n",
       "      <td>174.21</td>\n",
       "    </tr>\n",
       "  </tbody>\n",
       "</table>\n",
       "</div>"
      ],
      "text/plain": [
       "                              Exchange Symbol  Bid_Price  Bid_Size  \\\n",
       "Time                                                                 \n",
       "2018-01-17 04:00:00.015039233      NaN   AAPL        NaN       NaN   \n",
       "2018-01-17 04:00:00.015042660      NaN   AAPL        NaN       NaN   \n",
       "2018-01-17 04:00:00.015050355      NaN   AAPL        NaN       NaN   \n",
       "2018-01-17 04:00:00.015062641      NaN   AAPL        NaN       NaN   \n",
       "2018-01-17 04:00:00.015072361      NaN   AAPL        NaN       NaN   \n",
       "\n",
       "                               Offer_Price  Offer_Size Quote_Condition  \\\n",
       "Time                                                                     \n",
       "2018-01-17 04:00:00.015039233          NaN         NaN             NaN   \n",
       "2018-01-17 04:00:00.015042660          NaN         NaN             NaN   \n",
       "2018-01-17 04:00:00.015050355          NaN         NaN             NaN   \n",
       "2018-01-17 04:00:00.015062641          NaN         NaN             NaN   \n",
       "2018-01-17 04:00:00.015072361          NaN         NaN             NaN   \n",
       "\n",
       "                              Sale Condition  Trade Volume  Trade Price  \n",
       "Time                                                                     \n",
       "2018-01-17 04:00:00.015039233           @ TI          25.0       174.21  \n",
       "2018-01-17 04:00:00.015042660           @ TI           1.0       174.21  \n",
       "2018-01-17 04:00:00.015050355           @ TI           1.0       174.21  \n",
       "2018-01-17 04:00:00.015062641           @ TI          73.0       174.21  \n",
       "2018-01-17 04:00:00.015072361           @ T          127.0       174.21  "
      ]
     },
     "execution_count": 33,
     "metadata": {},
     "output_type": "execute_result"
    }
   ],
   "source": [
    "# check our data\n",
    "taq.head()"
   ]
  },
  {
   "cell_type": "code",
   "execution_count": 32,
   "metadata": {},
   "outputs": [],
   "source": [
    "# cut our data to market hours\n",
    "trading_day = taq['2018-01-17 09:30:00':'2018-01-17 16:00:00']"
   ]
  },
  {
   "cell_type": "code",
   "execution_count": 34,
   "metadata": {},
   "outputs": [
    {
     "data": {
      "text/html": [
       "<div>\n",
       "<style scoped>\n",
       "    .dataframe tbody tr th:only-of-type {\n",
       "        vertical-align: middle;\n",
       "    }\n",
       "\n",
       "    .dataframe tbody tr th {\n",
       "        vertical-align: top;\n",
       "    }\n",
       "\n",
       "    .dataframe thead th {\n",
       "        text-align: right;\n",
       "    }\n",
       "</style>\n",
       "<table border=\"1\" class=\"dataframe\">\n",
       "  <thead>\n",
       "    <tr style=\"text-align: right;\">\n",
       "      <th></th>\n",
       "      <th>Exchange</th>\n",
       "      <th>Symbol</th>\n",
       "      <th>Bid_Price</th>\n",
       "      <th>Bid_Size</th>\n",
       "      <th>Offer_Price</th>\n",
       "      <th>Offer_Size</th>\n",
       "      <th>Quote_Condition</th>\n",
       "      <th>Sale Condition</th>\n",
       "      <th>Trade Volume</th>\n",
       "      <th>Trade Price</th>\n",
       "    </tr>\n",
       "    <tr>\n",
       "      <th>Time</th>\n",
       "      <th></th>\n",
       "      <th></th>\n",
       "      <th></th>\n",
       "      <th></th>\n",
       "      <th></th>\n",
       "      <th></th>\n",
       "      <th></th>\n",
       "      <th></th>\n",
       "      <th></th>\n",
       "      <th></th>\n",
       "    </tr>\n",
       "  </thead>\n",
       "  <tbody>\n",
       "    <tr>\n",
       "      <th>2018-01-17 09:30:00.013454825</th>\n",
       "      <td>NaN</td>\n",
       "      <td>AAPL</td>\n",
       "      <td>NaN</td>\n",
       "      <td>NaN</td>\n",
       "      <td>NaN</td>\n",
       "      <td>NaN</td>\n",
       "      <td>NaN</td>\n",
       "      <td>@F I</td>\n",
       "      <td>44.0</td>\n",
       "      <td>176.15</td>\n",
       "    </tr>\n",
       "    <tr>\n",
       "      <th>2018-01-17 09:30:00.029276218</th>\n",
       "      <td>NaN</td>\n",
       "      <td>AAPL</td>\n",
       "      <td>NaN</td>\n",
       "      <td>NaN</td>\n",
       "      <td>NaN</td>\n",
       "      <td>NaN</td>\n",
       "      <td>NaN</td>\n",
       "      <td>@</td>\n",
       "      <td>100.0</td>\n",
       "      <td>176.15</td>\n",
       "    </tr>\n",
       "    <tr>\n",
       "      <th>2018-01-17 09:30:00.029355650</th>\n",
       "      <td>Z</td>\n",
       "      <td>AAPL</td>\n",
       "      <td>176.12</td>\n",
       "      <td>1.0</td>\n",
       "      <td>176.54</td>\n",
       "      <td>3.0</td>\n",
       "      <td>R</td>\n",
       "      <td>NaN</td>\n",
       "      <td>NaN</td>\n",
       "      <td>NaN</td>\n",
       "    </tr>\n",
       "    <tr>\n",
       "      <th>2018-01-17 09:30:00.029361349</th>\n",
       "      <td>Z</td>\n",
       "      <td>AAPL</td>\n",
       "      <td>175.71</td>\n",
       "      <td>3.0</td>\n",
       "      <td>176.54</td>\n",
       "      <td>3.0</td>\n",
       "      <td>R</td>\n",
       "      <td>NaN</td>\n",
       "      <td>NaN</td>\n",
       "      <td>NaN</td>\n",
       "    </tr>\n",
       "    <tr>\n",
       "      <th>2018-01-17 09:30:00.037869801</th>\n",
       "      <td>NaN</td>\n",
       "      <td>AAPL</td>\n",
       "      <td>NaN</td>\n",
       "      <td>NaN</td>\n",
       "      <td>NaN</td>\n",
       "      <td>NaN</td>\n",
       "      <td>NaN</td>\n",
       "      <td>@  I</td>\n",
       "      <td>70.0</td>\n",
       "      <td>176.10</td>\n",
       "    </tr>\n",
       "  </tbody>\n",
       "</table>\n",
       "</div>"
      ],
      "text/plain": [
       "                              Exchange Symbol  Bid_Price  Bid_Size  \\\n",
       "Time                                                                 \n",
       "2018-01-17 09:30:00.013454825      NaN   AAPL        NaN       NaN   \n",
       "2018-01-17 09:30:00.029276218      NaN   AAPL        NaN       NaN   \n",
       "2018-01-17 09:30:00.029355650        Z   AAPL     176.12       1.0   \n",
       "2018-01-17 09:30:00.029361349        Z   AAPL     175.71       3.0   \n",
       "2018-01-17 09:30:00.037869801      NaN   AAPL        NaN       NaN   \n",
       "\n",
       "                               Offer_Price  Offer_Size Quote_Condition  \\\n",
       "Time                                                                     \n",
       "2018-01-17 09:30:00.013454825          NaN         NaN             NaN   \n",
       "2018-01-17 09:30:00.029276218          NaN         NaN             NaN   \n",
       "2018-01-17 09:30:00.029355650       176.54         3.0               R   \n",
       "2018-01-17 09:30:00.029361349       176.54         3.0               R   \n",
       "2018-01-17 09:30:00.037869801          NaN         NaN             NaN   \n",
       "\n",
       "                              Sale Condition  Trade Volume  Trade Price  \n",
       "Time                                                                     \n",
       "2018-01-17 09:30:00.013454825           @F I          44.0       176.15  \n",
       "2018-01-17 09:30:00.029276218           @            100.0       176.15  \n",
       "2018-01-17 09:30:00.029355650            NaN           NaN          NaN  \n",
       "2018-01-17 09:30:00.029361349            NaN           NaN          NaN  \n",
       "2018-01-17 09:30:00.037869801           @  I          70.0       176.10  "
      ]
     },
     "execution_count": 34,
     "metadata": {},
     "output_type": "execute_result"
    }
   ],
   "source": [
    "trading_day.head()"
   ]
  },
  {
   "cell_type": "code",
   "execution_count": 35,
   "metadata": {},
   "outputs": [
    {
     "data": {
      "text/plain": [
       "699317"
      ]
     },
     "execution_count": 35,
     "metadata": {},
     "output_type": "execute_result"
    }
   ],
   "source": [
    "len(trading_day)"
   ]
  },
  {
   "cell_type": "code",
   "execution_count": 36,
   "metadata": {},
   "outputs": [
    {
     "data": {
      "text/html": [
       "<div>\n",
       "<style scoped>\n",
       "    .dataframe tbody tr th:only-of-type {\n",
       "        vertical-align: middle;\n",
       "    }\n",
       "\n",
       "    .dataframe tbody tr th {\n",
       "        vertical-align: top;\n",
       "    }\n",
       "\n",
       "    .dataframe thead th {\n",
       "        text-align: right;\n",
       "    }\n",
       "</style>\n",
       "<table border=\"1\" class=\"dataframe\">\n",
       "  <thead>\n",
       "    <tr style=\"text-align: right;\">\n",
       "      <th></th>\n",
       "      <th>Exchange</th>\n",
       "      <th>Symbol</th>\n",
       "      <th>Bid_Price</th>\n",
       "      <th>Bid_Size</th>\n",
       "      <th>Offer_Price</th>\n",
       "      <th>Offer_Size</th>\n",
       "      <th>Quote_Condition</th>\n",
       "      <th>Sale Condition</th>\n",
       "      <th>Trade Volume</th>\n",
       "      <th>Trade Price</th>\n",
       "    </tr>\n",
       "    <tr>\n",
       "      <th>Time</th>\n",
       "      <th></th>\n",
       "      <th></th>\n",
       "      <th></th>\n",
       "      <th></th>\n",
       "      <th></th>\n",
       "      <th></th>\n",
       "      <th></th>\n",
       "      <th></th>\n",
       "      <th></th>\n",
       "      <th></th>\n",
       "    </tr>\n",
       "  </thead>\n",
       "  <tbody>\n",
       "    <tr>\n",
       "      <th>2018-01-17 09:30:00.013454825</th>\n",
       "      <td>NaN</td>\n",
       "      <td>AAPL</td>\n",
       "      <td>NaN</td>\n",
       "      <td>NaN</td>\n",
       "      <td>NaN</td>\n",
       "      <td>NaN</td>\n",
       "      <td>NaN</td>\n",
       "      <td>@F I</td>\n",
       "      <td>44.0</td>\n",
       "      <td>176.15</td>\n",
       "    </tr>\n",
       "  </tbody>\n",
       "</table>\n",
       "</div>"
      ],
      "text/plain": [
       "                              Exchange Symbol  Bid_Price  Bid_Size  \\\n",
       "Time                                                                 \n",
       "2018-01-17 09:30:00.013454825      NaN   AAPL        NaN       NaN   \n",
       "\n",
       "                               Offer_Price  Offer_Size Quote_Condition  \\\n",
       "Time                                                                     \n",
       "2018-01-17 09:30:00.013454825          NaN         NaN             NaN   \n",
       "\n",
       "                              Sale Condition  Trade Volume  Trade Price  \n",
       "Time                                                                     \n",
       "2018-01-17 09:30:00.013454825           @F I          44.0       176.15  "
      ]
     },
     "execution_count": 36,
     "metadata": {},
     "output_type": "execute_result"
    }
   ],
   "source": [
    "trading_day.head(1)"
   ]
  },
  {
   "cell_type": "code",
   "execution_count": 37,
   "metadata": {},
   "outputs": [
    {
     "data": {
      "text/html": [
       "<div>\n",
       "<style scoped>\n",
       "    .dataframe tbody tr th:only-of-type {\n",
       "        vertical-align: middle;\n",
       "    }\n",
       "\n",
       "    .dataframe tbody tr th {\n",
       "        vertical-align: top;\n",
       "    }\n",
       "\n",
       "    .dataframe thead th {\n",
       "        text-align: right;\n",
       "    }\n",
       "</style>\n",
       "<table border=\"1\" class=\"dataframe\">\n",
       "  <thead>\n",
       "    <tr style=\"text-align: right;\">\n",
       "      <th></th>\n",
       "      <th>Exchange</th>\n",
       "      <th>Symbol</th>\n",
       "      <th>Bid_Price</th>\n",
       "      <th>Bid_Size</th>\n",
       "      <th>Offer_Price</th>\n",
       "      <th>Offer_Size</th>\n",
       "      <th>Quote_Condition</th>\n",
       "      <th>Sale Condition</th>\n",
       "      <th>Trade Volume</th>\n",
       "      <th>Trade Price</th>\n",
       "    </tr>\n",
       "    <tr>\n",
       "      <th>Time</th>\n",
       "      <th></th>\n",
       "      <th></th>\n",
       "      <th></th>\n",
       "      <th></th>\n",
       "      <th></th>\n",
       "      <th></th>\n",
       "      <th></th>\n",
       "      <th></th>\n",
       "      <th></th>\n",
       "      <th></th>\n",
       "    </tr>\n",
       "  </thead>\n",
       "  <tbody>\n",
       "    <tr>\n",
       "      <th>2018-01-17 16:00:00.477861757</th>\n",
       "      <td>NaN</td>\n",
       "      <td>AAPL</td>\n",
       "      <td>NaN</td>\n",
       "      <td>NaN</td>\n",
       "      <td>NaN</td>\n",
       "      <td>NaN</td>\n",
       "      <td>NaN</td>\n",
       "      <td>@ TW</td>\n",
       "      <td>314.0</td>\n",
       "      <td>179.1</td>\n",
       "    </tr>\n",
       "  </tbody>\n",
       "</table>\n",
       "</div>"
      ],
      "text/plain": [
       "                              Exchange Symbol  Bid_Price  Bid_Size  \\\n",
       "Time                                                                 \n",
       "2018-01-17 16:00:00.477861757      NaN   AAPL        NaN       NaN   \n",
       "\n",
       "                               Offer_Price  Offer_Size Quote_Condition  \\\n",
       "Time                                                                     \n",
       "2018-01-17 16:00:00.477861757          NaN         NaN             NaN   \n",
       "\n",
       "                              Sale Condition  Trade Volume  Trade Price  \n",
       "Time                                                                     \n",
       "2018-01-17 16:00:00.477861757           @ TW         314.0        179.1  "
      ]
     },
     "execution_count": 37,
     "metadata": {},
     "output_type": "execute_result"
    }
   ],
   "source": [
    "trading_day.tail(1)"
   ]
  },
  {
   "cell_type": "code",
   "execution_count": 38,
   "metadata": {},
   "outputs": [],
   "source": [
    "# let's set up a container to hold trades. preinitialize with the index\n",
    "trades = pd.DataFrame( columns = [ 'price' , 'shares', 'bar' ], index=trading_day.index )"
   ]
  },
  {
   "cell_type": "markdown",
   "metadata": {},
   "source": [
    "### Event Loop"
   ]
  },
  {
   "cell_type": "code",
   "execution_count": 39,
   "metadata": {},
   "outputs": [
    {
     "name": "stdout",
     "output_type": "stream",
     "text": [
      "start loop : 2019-02-20 20:52:21:455947\n",
      "end loop : 2019-02-20 20:54:22:088720\n"
     ]
    }
   ],
   "source": [
    "# main event loop\n",
    "current_bar = 1\n",
    "current_target = 0\n",
    "quantity_filled = 0\n",
    "quantity_remaining = order_quantity - quantity_filled\n",
    "bid_price = 0.0\n",
    "bid_quantity = 0.0\n",
    "offer_price = 0.0\n",
    "offer_quantity = 0.0\n",
    "last_price = 0.0\n",
    "last_quantity = 0.0\n",
    "total_volume = 0.0\n",
    "vwap_numerator = 0.0\n",
    "\n",
    "show_time( 'start loop' )\n",
    "for index, row in trading_day.iterrows():\n",
    "    # figure out which minute we are in after the open\n",
    "    time_from_open = ( index - pd.Timedelta( hours = 9, minutes = 30 ) )\n",
    "    minutes_from_open = ( time_from_open.hour * 60 ) + time_from_open.minute\n",
    "        \n",
    "    # determine message type\n",
    "    if ( pd.isnull( row[ 'Trade Price' ] ) ): # it's a quote\n",
    "        # collect BBO\n",
    "        bid_price = row[ 'Bid_Price' ]\n",
    "        offer_price = row[ 'Offer_Price' ]\n",
    "        \n",
    "        # what's wrong with the lines below?\n",
    "        bid_quantity = row[ 'Bid_Size' ] * 100 \n",
    "        offer_quantity = row[ 'Offer_Size' ] * 100\n",
    "    \n",
    "    else: # it's a trade\n",
    "        last_price = row[ 'Trade Price' ]\n",
    "        last_quantity = row[ 'Trade Volume' ]\n",
    "        \n",
    "        # collect volume\n",
    "        total_volume += last_quantity\n",
    "        \n",
    "        # collect rolling VWAP\n",
    "        vwap_numerator += last_quantity * last_price\n",
    "\n",
    "    # are we in a new minute?\n",
    "    if ( minutes_from_open > current_bar ):\n",
    "        # we're in a new bar do new bar things here\n",
    "        current_bar = minutes_from_open\n",
    "        current_target = min( np.ceil( order_targets[ current_bar ] ), order_quantity )\n",
    "        #print ( str(current_bar) + ': ' + str( current_target ) )\n",
    "        \n",
    "    # trade logic\n",
    "    # v1: are we behind the target at all? If so, do a trade, just pay the spread\n",
    "    quantity_behind = current_target - quantity_filled\n",
    "    if ( quantity_behind > 0 ): # we need to trade \n",
    "        # assume you can execute the full size across spread\n",
    "        new_trade_quantity = quantity_behind\n",
    "        if ( order_side == 'b' ):\n",
    "            new_trade_price = offer_price\n",
    "        else: \n",
    "            new_trade_price = bid_price\n",
    "        \n",
    "        trades.loc[ index ] = [ new_trade_price, new_trade_quantity, current_bar ]\n",
    "        \n",
    "        # update quantity remaining\n",
    "        quantity_remaining = min( 0, quantity_remaining - new_trade_quantity )\n",
    "        quantity_filled += new_trade_quantity    \n",
    "        \n",
    "# looping done\n",
    "show_time( 'end loop' )"
   ]
  },
  {
   "cell_type": "code",
   "execution_count": null,
   "metadata": {},
   "outputs": [],
   "source": [
    "# incidentally... trying to record into dataframe using this code... gave up after 40 minutes...\n",
    "# new_row = pd.DataFrame( [[ new_trade_price, new_trade_quantity, order_side ]], \n",
    "#                              columns = [ 'fill_price' , 'fill_quantity', 'fill_side' ],\n",
    "#                              index = [ index ] )\n",
    "# trades = pd.concat( [ trades, pd.DataFrame( new_row ) ], ignore_index = False )"
   ]
  },
  {
   "cell_type": "code",
   "execution_count": 40,
   "metadata": {},
   "outputs": [
    {
     "name": "stdout",
     "output_type": "stream",
     "text": [
      "stock volume: 34760614.0\n",
      "order shares traded: 248977.0\n",
      "average price: 176.55202384155965\n",
      "day vwap: 177.35551087423718\n",
      "average trade size: 640.0437017994859\n"
     ]
    }
   ],
   "source": [
    "# Now, let's look at some stats\n",
    "trades = trades.dropna()\n",
    "day_vwap = vwap_numerator / total_volume\n",
    "print( 'stock volume: ' + str( total_volume ) )\n",
    "print( 'order shares traded: ' + str( quantity_filled ) )\n",
    "avg_price = (trades[ 'price' ] * trades[ 'shares' ]).sum() / trades[ 'shares' ].sum()\n",
    "print( 'average price: ' + str( avg_price ) )\n",
    "print( 'day vwap: ' + str( day_vwap ) )\n",
    "print( 'average trade size: ' + str( trades[ 'shares' ].mean() ) )"
   ]
  },
  {
   "cell_type": "code",
   "execution_count": 41,
   "metadata": {},
   "outputs": [],
   "source": [
    "trades[ 'accum_shares' ] = trades[ 'shares' ].cumsum()"
   ]
  },
  {
   "cell_type": "code",
   "execution_count": 42,
   "metadata": {},
   "outputs": [
    {
     "data": {
      "text/plain": [
       "[<matplotlib.lines.Line2D at 0x129226f60>]"
      ]
     },
     "execution_count": 42,
     "metadata": {},
     "output_type": "execute_result"
    },
    {
     "data": {
      "image/png": "[encoded data removed]",
      "text/plain": [
       "<Figure size 1008x432 with 1 Axes>"
      ]
     },
     "metadata": {
      "needs_background": "light"
     },
     "output_type": "display_data"
    }
   ],
   "source": [
    "plt.plot(trades['accum_shares'])"
   ]
  },
  {
   "cell_type": "code",
   "execution_count": 43,
   "metadata": {},
   "outputs": [
    {
     "data": {
      "text/plain": [
       "Text(0.5, 1.0, 'realized trade prices')"
      ]
     },
     "execution_count": 43,
     "metadata": {},
     "output_type": "execute_result"
    },
    {
     "data": {
      "image/png": "[encoded data removed]",
      "text/plain": [
       "<Figure size 1008x432 with 1 Axes>"
      ]
     },
     "metadata": {
      "needs_background": "light"
     },
     "output_type": "display_data"
    }
   ],
   "source": [
    "plt.plot(trades['price'])\n",
    "plt.title('realized trade prices')"
   ]
  },
  {
   "cell_type": "code",
   "execution_count": 44,
   "metadata": {},
   "outputs": [],
   "source": [
    "all_trades = trading_day[[ 'Trade Volume', 'Trade Price' ]].copy()\n",
    "all_trades = all_trades.dropna()"
   ]
  },
  {
   "cell_type": "code",
   "execution_count": 45,
   "metadata": {},
   "outputs": [
    {
     "data": {
      "text/plain": [
       "[<matplotlib.lines.Line2D at 0x122e689e8>]"
      ]
     },
     "execution_count": 45,
     "metadata": {},
     "output_type": "execute_result"
    },
    {
     "data": {
      "image/png": "[encoded data removed]",
      "text/plain": [
       "<Figure size 1008x432 with 1 Axes>"
      ]
     },
     "metadata": {
      "needs_background": "light"
     },
     "output_type": "display_data"
    }
   ],
   "source": [
    "plt.plot( all_trades['Trade Price'] )"
   ]
  },
  {
   "cell_type": "code",
   "execution_count": null,
   "metadata": {
    "scrolled": true
   },
   "outputs": [],
   "source": [
    "# for now, let's ignore the extreme values and plot these together\n",
    "\n",
    "day_plot = plt.plot( all_trades[ 'Trade Price' ], label = 'stock chart' )\n",
    "trade_plot = plt.plot( trades[ 'price' ], label = 'Our Trade' )\n",
    "plt.title( 'Our trades vs. the day' )\n",
    "plt.ylim( 174, 180 )\n",
    "plt.legend()"
   ]
  },
  {
   "cell_type": "code",
   "execution_count": null,
   "metadata": {},
   "outputs": [],
   "source": []
  }
 ],
 "metadata": {
  "kernelspec": {
   "display_name": "Python 3",
   "language": "python",
   "name": "python3"
  },
  "language_info": {
   "codemirror_mode": {
    "name": "ipython",
    "version": 3
   },
   "file_extension": ".py",
   "mimetype": "text/x-python",
   "name": "python",
   "nbconvert_exporter": "python",
   "pygments_lexer": "ipython3",
   "version": "3.7.4"
  }
 },
 "nbformat": 4,
 "nbformat_minor": 4
}
