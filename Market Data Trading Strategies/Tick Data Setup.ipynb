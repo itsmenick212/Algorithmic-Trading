{
 "cells": [
  {
   "cell_type": "markdown",
   "metadata": {},
   "source": [
    "# Tick Data Setup\n",
    "_Version 1.0_"
   ]
  },
  {
   "cell_type": "code",
   "execution_count": 32,
   "metadata": {},
   "outputs": [],
   "source": [
    "%matplotlib inline\n",
    "\n",
    "import matplotlib\n",
    "import matplotlib.pyplot as plt\n",
    "import pandas as pd\n",
    "\n",
    "# load our helper functios\n",
    "%run simtools.py\n",
    "\n",
    "matplotlib.rcParams[ 'figure.figsize' ] = ( 16, 9 )"
   ]
  },
  {
   "cell_type": "markdown",
   "metadata": {},
   "source": [
    "### Load and Normalize Data"
   ]
  },
  {
   "cell_type": "code",
   "execution_count": 33,
   "metadata": {},
   "outputs": [],
   "source": [
    "# set up some variables\n",
    "trade_file = '../Lecture 3/TSLA-trades-aug19v2.zip'\n",
    "quote_file = '../Lecture 3/TSLA-quotes-aug19v2.zip'\n",
    "test_day = '2018-11-01'"
   ]
  },
  {
   "cell_type": "code",
   "execution_count": 34,
   "metadata": {},
   "outputs": [
    {
     "name": "stdout",
     "output_type": "stream",
     "text": [
      "load trades : 2019-09-24 00:41:48:078165\n",
      "load complete : 2019-09-24 00:41:49:667918\n",
      "indexing trades : 2019-09-24 00:41:49:668038\n",
      "index trades done : 2019-09-24 00:41:55:659444\n"
     ]
    }
   ],
   "source": [
    "# call load trades\n",
    "trades = loadtradefile(trade_file)"
   ]
  },
  {
   "cell_type": "code",
   "execution_count": 35,
   "metadata": {},
   "outputs": [
    {
     "name": "stdout",
     "output_type": "stream",
     "text": [
      "load quotes : 2019-09-24 00:41:55:727952\n",
      "load complete : 2019-09-24 00:42:08:586965\n",
      "indexing quotes : 2019-09-24 00:42:08:587156\n",
      "index quotes done : 2019-09-24 00:42:51:215895\n"
     ]
    }
   ],
   "source": [
    "# call load quotes\n",
    "quotes = loadquotefile(quote_file)"
   ]
  },
  {
   "cell_type": "code",
   "execution_count": 36,
   "metadata": {},
   "outputs": [
    {
     "data": {
      "text/html": [
       "<div>\n",
       "<style scoped>\n",
       "    .dataframe tbody tr th:only-of-type {\n",
       "        vertical-align: middle;\n",
       "    }\n",
       "\n",
       "    .dataframe tbody tr th {\n",
       "        vertical-align: top;\n",
       "    }\n",
       "\n",
       "    .dataframe thead th {\n",
       "        text-align: right;\n",
       "    }\n",
       "</style>\n",
       "<table border=\"1\" class=\"dataframe\">\n",
       "  <thead>\n",
       "    <tr style=\"text-align: right;\">\n",
       "      <th></th>\n",
       "      <th>exch</th>\n",
       "      <th>bid_px</th>\n",
       "      <th>bid_size</th>\n",
       "      <th>ask_px</th>\n",
       "      <th>ask_size</th>\n",
       "      <th>symbol</th>\n",
       "      <th>suffix</th>\n",
       "    </tr>\n",
       "  </thead>\n",
       "  <tbody>\n",
       "    <tr>\n",
       "      <td>2019-08-01 09:30:00.221856542</td>\n",
       "      <td>A</td>\n",
       "      <td>241.34</td>\n",
       "      <td>1</td>\n",
       "      <td>243.33</td>\n",
       "      <td>1</td>\n",
       "      <td>TSLA</td>\n",
       "      <td>NaN</td>\n",
       "    </tr>\n",
       "    <tr>\n",
       "      <td>2019-08-01 09:30:00.415319200</td>\n",
       "      <td>C</td>\n",
       "      <td>240.88</td>\n",
       "      <td>1</td>\n",
       "      <td>243.78</td>\n",
       "      <td>1</td>\n",
       "      <td>TSLA</td>\n",
       "      <td>NaN</td>\n",
       "    </tr>\n",
       "    <tr>\n",
       "      <td>2019-08-01 09:30:00.415596052</td>\n",
       "      <td>N</td>\n",
       "      <td>241.34</td>\n",
       "      <td>1</td>\n",
       "      <td>243.33</td>\n",
       "      <td>1</td>\n",
       "      <td>TSLA</td>\n",
       "      <td>NaN</td>\n",
       "    </tr>\n",
       "    <tr>\n",
       "      <td>2019-08-01 09:30:00.833394292</td>\n",
       "      <td>Y</td>\n",
       "      <td>241.46</td>\n",
       "      <td>1</td>\n",
       "      <td>243.47</td>\n",
       "      <td>3</td>\n",
       "      <td>TSLA</td>\n",
       "      <td>NaN</td>\n",
       "    </tr>\n",
       "    <tr>\n",
       "      <td>2019-08-01 09:30:00.963855830</td>\n",
       "      <td>B</td>\n",
       "      <td>240.55</td>\n",
       "      <td>3</td>\n",
       "      <td>244.37</td>\n",
       "      <td>3</td>\n",
       "      <td>TSLA</td>\n",
       "      <td>NaN</td>\n",
       "    </tr>\n",
       "  </tbody>\n",
       "</table>\n",
       "</div>"
      ],
      "text/plain": [
       "                              exch  bid_px  bid_size  ask_px  ask_size symbol  \\\n",
       "2019-08-01 09:30:00.221856542    A  241.34         1  243.33         1   TSLA   \n",
       "2019-08-01 09:30:00.415319200    C  240.88         1  243.78         1   TSLA   \n",
       "2019-08-01 09:30:00.415596052    N  241.34         1  243.33         1   TSLA   \n",
       "2019-08-01 09:30:00.833394292    Y  241.46         1  243.47         3   TSLA   \n",
       "2019-08-01 09:30:00.963855830    B  240.55         3  244.37         3   TSLA   \n",
       "\n",
       "                               suffix  \n",
       "2019-08-01 09:30:00.221856542     NaN  \n",
       "2019-08-01 09:30:00.415319200     NaN  \n",
       "2019-08-01 09:30:00.415596052     NaN  \n",
       "2019-08-01 09:30:00.833394292     NaN  \n",
       "2019-08-01 09:30:00.963855830     NaN  "
      ]
     },
     "execution_count": 36,
     "metadata": {},
     "output_type": "execute_result"
    }
   ],
   "source": [
    "quotes.head()"
   ]
  },
  {
   "cell_type": "code",
   "execution_count": 37,
   "metadata": {},
   "outputs": [
    {
     "name": "stdout",
     "output_type": "stream",
     "text": [
      "start merge : 2019-09-24 00:42:59:420669\n",
      "end merge : 2019-09-24 00:43:04:493064\n"
     ]
    }
   ],
   "source": [
    "# merge the files\n",
    "taq = makeTAQfile(trades, quotes)"
   ]
  },
  {
   "cell_type": "code",
   "execution_count": 38,
   "metadata": {},
   "outputs": [
    {
     "data": {
      "text/html": [
       "<div>\n",
       "<style scoped>\n",
       "    .dataframe tbody tr th:only-of-type {\n",
       "        vertical-align: middle;\n",
       "    }\n",
       "\n",
       "    .dataframe tbody tr th {\n",
       "        vertical-align: top;\n",
       "    }\n",
       "\n",
       "    .dataframe thead th {\n",
       "        text-align: right;\n",
       "    }\n",
       "</style>\n",
       "<table border=\"1\" class=\"dataframe\">\n",
       "  <thead>\n",
       "    <tr style=\"text-align: right;\">\n",
       "      <th></th>\n",
       "      <th>exch</th>\n",
       "      <th>bid_px</th>\n",
       "      <th>bid_size</th>\n",
       "      <th>ask_px</th>\n",
       "      <th>ask_size</th>\n",
       "      <th>symbol</th>\n",
       "      <th>suffix_x</th>\n",
       "      <th>suffix_y</th>\n",
       "      <th>trade_size</th>\n",
       "      <th>trade_px</th>\n",
       "    </tr>\n",
       "  </thead>\n",
       "  <tbody>\n",
       "    <tr>\n",
       "      <td>2019-08-01 09:30:00.221856542</td>\n",
       "      <td>A</td>\n",
       "      <td>241.34</td>\n",
       "      <td>1.0</td>\n",
       "      <td>243.33</td>\n",
       "      <td>1.0</td>\n",
       "      <td>TSLA</td>\n",
       "      <td>NaN</td>\n",
       "      <td>NaN</td>\n",
       "      <td>NaN</td>\n",
       "      <td>NaN</td>\n",
       "    </tr>\n",
       "    <tr>\n",
       "      <td>2019-08-01 09:30:00.393481242</td>\n",
       "      <td>NaN</td>\n",
       "      <td>NaN</td>\n",
       "      <td>NaN</td>\n",
       "      <td>NaN</td>\n",
       "      <td>NaN</td>\n",
       "      <td>TSLA</td>\n",
       "      <td>NaN</td>\n",
       "      <td>NaN</td>\n",
       "      <td>10.0</td>\n",
       "      <td>242.045</td>\n",
       "    </tr>\n",
       "    <tr>\n",
       "      <td>2019-08-01 09:30:00.415319200</td>\n",
       "      <td>C</td>\n",
       "      <td>240.88</td>\n",
       "      <td>1.0</td>\n",
       "      <td>243.78</td>\n",
       "      <td>1.0</td>\n",
       "      <td>TSLA</td>\n",
       "      <td>NaN</td>\n",
       "      <td>NaN</td>\n",
       "      <td>NaN</td>\n",
       "      <td>NaN</td>\n",
       "    </tr>\n",
       "    <tr>\n",
       "      <td>2019-08-01 09:30:00.415596052</td>\n",
       "      <td>N</td>\n",
       "      <td>241.34</td>\n",
       "      <td>1.0</td>\n",
       "      <td>243.33</td>\n",
       "      <td>1.0</td>\n",
       "      <td>TSLA</td>\n",
       "      <td>NaN</td>\n",
       "      <td>NaN</td>\n",
       "      <td>NaN</td>\n",
       "      <td>NaN</td>\n",
       "    </tr>\n",
       "    <tr>\n",
       "      <td>2019-08-01 09:30:00.694857858</td>\n",
       "      <td>NaN</td>\n",
       "      <td>NaN</td>\n",
       "      <td>NaN</td>\n",
       "      <td>NaN</td>\n",
       "      <td>NaN</td>\n",
       "      <td>TSLA</td>\n",
       "      <td>NaN</td>\n",
       "      <td>NaN</td>\n",
       "      <td>5.0</td>\n",
       "      <td>242.030</td>\n",
       "    </tr>\n",
       "  </tbody>\n",
       "</table>\n",
       "</div>"
      ],
      "text/plain": [
       "                              exch  bid_px  bid_size  ask_px  ask_size symbol  \\\n",
       "2019-08-01 09:30:00.221856542    A  241.34       1.0  243.33       1.0   TSLA   \n",
       "2019-08-01 09:30:00.393481242  NaN     NaN       NaN     NaN       NaN   TSLA   \n",
       "2019-08-01 09:30:00.415319200    C  240.88       1.0  243.78       1.0   TSLA   \n",
       "2019-08-01 09:30:00.415596052    N  241.34       1.0  243.33       1.0   TSLA   \n",
       "2019-08-01 09:30:00.694857858  NaN     NaN       NaN     NaN       NaN   TSLA   \n",
       "\n",
       "                               suffix_x  suffix_y  trade_size  trade_px  \n",
       "2019-08-01 09:30:00.221856542       NaN       NaN         NaN       NaN  \n",
       "2019-08-01 09:30:00.393481242       NaN       NaN        10.0   242.045  \n",
       "2019-08-01 09:30:00.415319200       NaN       NaN         NaN       NaN  \n",
       "2019-08-01 09:30:00.415596052       NaN       NaN         NaN       NaN  \n",
       "2019-08-01 09:30:00.694857858       NaN       NaN         5.0   242.030  "
      ]
     },
     "execution_count": 38,
     "metadata": {},
     "output_type": "execute_result"
    }
   ],
   "source": [
    "taq.head()"
   ]
  },
  {
   "cell_type": "code",
   "execution_count": 39,
   "metadata": {},
   "outputs": [],
   "source": [
    "# save the file\n",
    "taq.to_pickle('TSLA-TAQ-aug19.zip')"
   ]
  },
  {
   "cell_type": "code",
   "execution_count": null,
   "metadata": {},
   "outputs": [],
   "source": []
  }
 ],
 "metadata": {
  "kernelspec": {
   "display_name": "Python 3",
   "language": "python",
   "name": "python3"
  },
  "language_info": {
   "codemirror_mode": {
    "name": "ipython",
    "version": 3
   },
   "file_extension": ".py",
   "mimetype": "text/x-python",
   "name": "python",
   "nbconvert_exporter": "python",
   "pygments_lexer": "ipython3",
   "version": "3.7.4"
  }
 },
 "nbformat": 4,
 "nbformat_minor": 4
}
