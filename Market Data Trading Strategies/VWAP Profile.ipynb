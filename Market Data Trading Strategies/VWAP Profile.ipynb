{
 "cells": [
  {
   "cell_type": "markdown",
   "metadata": {},
   "source": [
    "# A simple VWAP Profile"
   ]
  },
  {
   "cell_type": "code",
   "execution_count": 36,
   "metadata": {},
   "outputs": [],
   "source": [
    "%matplotlib inline\n",
    "\n",
    "import matplotlib\n",
    "import matplotlib.pyplot as plt\n",
    "import matplotlib.dates as md\n",
    "import numpy as np\n",
    "import pandas as pd\n",
    "from sklearn import linear_model as linear_model\n",
    "\n",
    "matplotlib.rcParams['figure.figsize'] = (14, 6)\n",
    "\n",
    "# data source: alphavantage.co"
   ]
  },
  {
   "cell_type": "code",
   "execution_count": 37,
   "metadata": {},
   "outputs": [],
   "source": [
    "ticker = \"AAPL\"\n",
    "bars = pd.read_csv('./Feb_2_2018_Data/' + ticker +'.csv', index_col = 0, parse_dates = True )\n",
    "\n",
    "# fix sort order\n",
    "bars = bars.sort_index(ascending=True )\n",
    "\n",
    "# what if we eliminate the dates we don't like?\n",
    "#bars = bars[ '01-24-2018':'02-04-2018' ]"
   ]
  },
  {
   "cell_type": "code",
   "execution_count": 38,
   "metadata": {},
   "outputs": [],
   "source": [
    "# calculate the cumulative pct by day\n",
    "totl_volume = bars.groupby( [ bars.index.date ] ).tail( 1 )[ 'volume' ] \n",
    "bars[ 'accum_volume' ] = bars.groupby( [ bars.index.date ] ).cumsum()[ 'volume' ] \n",
    "bars[ 'accum_pct' ] = bars.groupby( [ bars.index.date ] )[ 'accum_volume' ].transform( lambda x: x / x.iloc[ -1 ] )\n",
    "\n",
    "# add a minute bin\n",
    "# US start of date, calc in minutes\n",
    "start_of_day = (9 * 60) + 30\n",
    "# get the time for each bin in minutes and subtract 9:30\n",
    "bars[ 'minute_bars' ] = (bars.index.hour * 60) + bars.index.minute - start_of_day"
   ]
  },
  {
   "cell_type": "code",
   "execution_count": 39,
   "metadata": {},
   "outputs": [
    {
     "data": {
      "text/plain": [
       "timestamp\n",
       "2018-01-25 09:30:00    0.012258\n",
       "2018-01-25 09:31:00    0.017578\n",
       "2018-01-25 09:32:00    0.021843\n",
       "2018-01-25 09:33:00    0.026869\n",
       "2018-01-25 09:34:00    0.030734\n",
       "2018-01-25 09:35:00    0.033426\n",
       "2018-01-25 09:36:00    0.037672\n",
       "2018-01-25 09:37:00    0.040610\n",
       "2018-01-25 09:38:00    0.044220\n",
       "2018-01-25 09:39:00    0.050266\n",
       "2018-01-25 09:40:00    0.053188\n",
       "2018-01-25 09:41:00    0.055915\n",
       "2018-01-25 09:42:00    0.058311\n",
       "2018-01-25 09:43:00    0.060812\n",
       "2018-01-25 09:44:00    0.063191\n",
       "2018-01-25 09:45:00    0.066876\n",
       "2018-01-25 09:46:00    0.069306\n",
       "2018-01-25 09:47:00    0.072279\n",
       "2018-01-25 09:48:00    0.075539\n",
       "2018-01-25 09:49:00    0.077545\n",
       "2018-01-25 09:50:00    0.079564\n",
       "2018-01-25 09:51:00    0.087027\n",
       "2018-01-25 09:52:00    0.090914\n",
       "2018-01-25 09:53:00    0.093600\n",
       "2018-01-25 09:54:00    0.096026\n",
       "2018-01-25 09:55:00    0.097747\n",
       "2018-01-25 09:56:00    0.104680\n",
       "2018-01-25 09:57:00    0.120656\n",
       "2018-01-25 09:58:00    0.125519\n",
       "2018-01-25 09:59:00    0.128217\n",
       "                         ...   \n",
       "2018-01-25 15:31:00    0.829605\n",
       "2018-01-25 15:32:00    0.831291\n",
       "2018-01-25 15:33:00    0.833131\n",
       "2018-01-25 15:34:00    0.835659\n",
       "2018-01-25 15:35:00    0.837589\n",
       "2018-01-25 15:36:00    0.840010\n",
       "2018-01-25 15:37:00    0.842261\n",
       "2018-01-25 15:38:00    0.844798\n",
       "2018-01-25 15:39:00    0.848591\n",
       "2018-01-25 15:40:00    0.855587\n",
       "2018-01-25 15:41:00    0.859199\n",
       "2018-01-25 15:42:00    0.862484\n",
       "2018-01-25 15:43:00    0.866332\n",
       "2018-01-25 15:44:00    0.869849\n",
       "2018-01-25 15:45:00    0.873933\n",
       "2018-01-25 15:46:00    0.877690\n",
       "2018-01-25 15:47:00    0.882422\n",
       "2018-01-25 15:48:00    0.886400\n",
       "2018-01-25 15:49:00    0.889979\n",
       "2018-01-25 15:50:00    0.894369\n",
       "2018-01-25 15:51:00    0.899474\n",
       "2018-01-25 15:52:00    0.903110\n",
       "2018-01-25 15:53:00    0.909331\n",
       "2018-01-25 15:54:00    0.913837\n",
       "2018-01-25 15:55:00    0.918110\n",
       "2018-01-25 15:56:00    0.922706\n",
       "2018-01-25 15:57:00    0.926653\n",
       "2018-01-25 15:58:00    0.935498\n",
       "2018-01-25 15:59:00    0.941831\n",
       "2018-01-25 16:00:00    1.000000\n",
       "Name: accum_pct, Length: 391, dtype: float64"
      ]
     },
     "execution_count": 39,
     "metadata": {},
     "output_type": "execute_result"
    }
   ],
   "source": [
    "bars['accum_pct']['2018-01-25']"
   ]
  },
  {
   "cell_type": "code",
   "execution_count": null,
   "metadata": {},
   "outputs": [],
   "source": [
    "bars['minute_bars']"
   ]
  },
  {
   "cell_type": "code",
   "execution_count": 41,
   "metadata": {},
   "outputs": [],
   "source": [
    "# arrange our data\n",
    "minute_bars = bars[ 'minute_bars' ]\n",
    "X = pd.DataFrame( { 'bin': minute_bars, \n",
    "                    'bin2' : minute_bars**2, \n",
    "                    'bin3' : minute_bars**3, \n",
    "                    'bin4' : minute_bars**4, \n",
    "                    'bin5' : minute_bars**5 } )\n",
    "y = bars[ 'accum_pct' ]"
   ]
  },
  {
   "cell_type": "code",
   "execution_count": 42,
   "metadata": {},
   "outputs": [
    {
     "data": {
      "text/plain": [
       "0.9447210758107566"
      ]
     },
     "execution_count": 42,
     "metadata": {},
     "output_type": "execute_result"
    }
   ],
   "source": [
    "# now do the regression\n",
    "lm = linear_model.LinearRegression()\n",
    "model = lm.fit( X, y )\n",
    "predictions = lm.predict( X )\n",
    "# Rsquared\n",
    "lm.score( X, y )"
   ]
  },
  {
   "cell_type": "code",
   "execution_count": 43,
   "metadata": {},
   "outputs": [
    {
     "data": {
      "text/plain": [
       "array([ 5.95499314e-03, -4.18782129e-05,  2.04745995e-07, -5.04842122e-10,\n",
       "        4.96279325e-13])"
      ]
     },
     "execution_count": 43,
     "metadata": {},
     "output_type": "execute_result"
    }
   ],
   "source": [
    "# coefficients\n",
    "lm.coef_"
   ]
  },
  {
   "cell_type": "code",
   "execution_count": null,
   "metadata": {},
   "outputs": [],
   "source": [
    "lm.intercept_"
   ]
  },
  {
   "cell_type": "code",
   "execution_count": 44,
   "metadata": {},
   "outputs": [
    {
     "data": {
      "text/plain": [
       "0.9440160707177043"
      ]
     },
     "execution_count": 44,
     "metadata": {},
     "output_type": "execute_result"
    }
   ],
   "source": [
    "# now do the regression with no intercept\n",
    "lm2 = linear_model.LinearRegression( fit_intercept = False )\n",
    "model = lm2.fit( X, y )\n",
    "predictions = lm2.predict( X )\n",
    "\n",
    "# Rsquared\n",
    "lm2.score( X, y )"
   ]
  },
  {
   "cell_type": "code",
   "execution_count": 45,
   "metadata": {},
   "outputs": [
    {
     "data": {
      "text/plain": [
       "array([ 7.50556384e-03, -6.30546072e-05,  3.26758999e-07, -8.17293518e-10,\n",
       "        7.89660916e-13])"
      ]
     },
     "execution_count": 45,
     "metadata": {},
     "output_type": "execute_result"
    }
   ],
   "source": [
    "lm2.coef_"
   ]
  },
  {
   "cell_type": "code",
   "execution_count": 47,
   "metadata": {},
   "outputs": [
    {
     "data": {
      "text/plain": [
       "0.0"
      ]
     },
     "execution_count": 47,
     "metadata": {},
     "output_type": "execute_result"
    }
   ],
   "source": [
    "lm2.intercept_"
   ]
  },
  {
   "cell_type": "code",
   "execution_count": 46,
   "metadata": {},
   "outputs": [],
   "source": [
    "def vwap_target( bar_num, coefs ):\n",
    "    return ( coefs[ 0 ] * bar_num + \n",
    "             coefs[ 1 ] * bar_num**2 + \n",
    "             coefs[ 2 ] * bar_num**3 +\n",
    "             coefs[ 3 ] * bar_num**4 +\n",
    "             coefs[ 4 ] * bar_num**5 )"
   ]
  },
  {
   "cell_type": "code",
   "execution_count": 48,
   "metadata": {},
   "outputs": [],
   "source": [
    "bins = np.arange(0,391)\n",
    "tgts = vwap_target( bins, lm2.coef_ )"
   ]
  },
  {
   "cell_type": "code",
   "execution_count": 50,
   "metadata": {},
   "outputs": [
    {
     "data": {
      "text/plain": [
       "array([0.        , 0.00744284, 0.01476151, 0.02195796, 0.02903409,\n",
       "       0.03599179, 0.04283294, 0.0495594 , 0.05617299, 0.06267554,\n",
       "       0.06906884, 0.07535467, 0.08153479, 0.08761094, 0.09358485,\n",
       "       0.09945821, 0.10523271, 0.11091003, 0.11649181, 0.12197968,\n",
       "       0.12737527, 0.13268015, 0.13789592, 0.14302413, 0.14806632,\n",
       "       0.15302403, 0.15789876, 0.162692  , 0.16740523, 0.17203989,\n",
       "       0.17659744, 0.1810793 , 0.18548687, 0.18982154, 0.19408468,\n",
       "       0.19827766, 0.2024018 , 0.20645845, 0.21044889, 0.21437444,\n",
       "       0.21823635, 0.22203589, 0.22577431, 0.22945283, 0.23307266,\n",
       "       0.23663501, 0.24014105, 0.24359195, 0.24698886, 0.25033291,\n",
       "       0.25362523, 0.25686693, 0.26005909, 0.26320279, 0.26629908,\n",
       "       0.26934903, 0.27235366, 0.27531398, 0.27823101, 0.28110572,\n",
       "       0.2839391 , 0.28673211, 0.2894857 , 0.29220079, 0.29487831,\n",
       "       0.29751916, 0.30012424, 0.30269442, 0.30523058, 0.30773356,\n",
       "       0.3102042 , 0.31264333, 0.31505176, 0.31743029, 0.31977971,\n",
       "       0.3221008 , 0.32439431, 0.326661  , 0.32890161, 0.33111685,\n",
       "       0.33330745, 0.33547409, 0.33761748, 0.33973829, 0.34183717,\n",
       "       0.34391479, 0.34597179, 0.3480088 , 0.35002643, 0.35202529,\n",
       "       0.35400598, 0.35596908, 0.35791517, 0.3598448 , 0.36175854,\n",
       "       0.36365691, 0.36554045, 0.36740969, 0.36926512, 0.37110725,\n",
       "       0.37293657, 0.37475355, 0.37655866, 0.37835236, 0.38013509,\n",
       "       0.3819073 , 0.38366942, 0.38542185, 0.38716502, 0.38889931,\n",
       "       0.39062513, 0.39234284, 0.39405283, 0.39575545, 0.39745106,\n",
       "       0.39914001, 0.40082262, 0.40249923, 0.40417015, 0.4058357 ,\n",
       "       0.40749617, 0.40915187, 0.41080306, 0.41245004, 0.41409306,\n",
       "       0.4157324 , 0.4173683 , 0.41900101, 0.42063076, 0.42225779,\n",
       "       0.42388231, 0.42550455, 0.42712471, 0.42874299, 0.43035959,\n",
       "       0.43197468, 0.43358846, 0.43520108, 0.43681273, 0.43842356,\n",
       "       0.44003371, 0.44164334, 0.44325259, 0.44486159, 0.44647047,\n",
       "       0.44807935, 0.44968834, 0.45129756, 0.4529071 , 0.45451708,\n",
       "       0.45612757, 0.45773867, 0.45935045, 0.460963  , 0.46257639,\n",
       "       0.46419067, 0.46580592, 0.46742219, 0.46903953, 0.47065799,\n",
       "       0.4722776 , 0.47389841, 0.47552044, 0.47714374, 0.47876831,\n",
       "       0.48039419, 0.48202138, 0.4836499 , 0.48527976, 0.48691096,\n",
       "       0.4885435 , 0.49017739, 0.4918126 , 0.49344914, 0.49508699,\n",
       "       0.49672613, 0.49836655, 0.50000822, 0.50165111, 0.5032952 ,\n",
       "       0.50494046, 0.50658685, 0.50823433, 0.50988287, 0.51153243,\n",
       "       0.51318297, 0.51483443, 0.51648677, 0.51813994, 0.51979388,\n",
       "       0.52144856, 0.5231039 , 0.52475986, 0.52641637, 0.52807338,\n",
       "       0.52973082, 0.53138863, 0.53304676, 0.53470513, 0.53636367,\n",
       "       0.53802234, 0.53968104, 0.54133973, 0.54299833, 0.54465677,\n",
       "       0.54631498, 0.54797289, 0.54963044, 0.55128756, 0.55294417,\n",
       "       0.5546002 , 0.5562556 , 0.55791028, 0.55956417, 0.56121722,\n",
       "       0.56286936, 0.5645205 , 0.5661706 , 0.56781959, 0.56946739,\n",
       "       0.57111395, 0.5727592 , 0.57440309, 0.57604556, 0.57768654,\n",
       "       0.57932598, 0.58096382, 0.58260001, 0.58423451, 0.58586725,\n",
       "       0.5874982 , 0.5891273 , 0.59075452, 0.5923798 , 0.59400313,\n",
       "       0.59562444, 0.59724372, 0.59886094, 0.60047605, 0.60208905,\n",
       "       0.6036999 , 0.60530859, 0.60691509, 0.60851941, 0.61012152,\n",
       "       0.61172142, 0.61331911, 0.61491458, 0.61650785, 0.61809892,\n",
       "       0.6196878 , 0.62127451, 0.62285907, 0.6244415 , 0.62602183,\n",
       "       0.6276001 , 0.62917634, 0.63075059, 0.6323229 , 0.63389332,\n",
       "       0.63546191, 0.63702873, 0.63859385, 0.64015732, 0.64171924,\n",
       "       0.64327969, 0.64483874, 0.6463965 , 0.64795306, 0.64950853,\n",
       "       0.65106301, 0.65261662, 0.65416948, 0.65572172, 0.65727347,\n",
       "       0.65882488, 0.66037609, 0.66192725, 0.66347852, 0.66503006,\n",
       "       0.66658206, 0.66813469, 0.66968813, 0.67124259, 0.67279825,\n",
       "       0.67435533, 0.67591404, 0.67747461, 0.67903726, 0.68060223,\n",
       "       0.68216977, 0.68374014, 0.68531358, 0.68689037, 0.68847079,\n",
       "       0.69005512, 0.69164366, 0.6932367 , 0.69483456, 0.69643755,\n",
       "       0.698046  , 0.69966025, 0.70128065, 0.70290754, 0.70454129,\n",
       "       0.70618226, 0.70783085, 0.70948744, 0.71115243, 0.71282623,\n",
       "       0.71450926, 0.71620195, 0.71790472, 0.71961804, 0.72134237,\n",
       "       0.72307815, 0.72482589, 0.72658605, 0.72835915, 0.73014569,\n",
       "       0.7319462 , 0.73376119, 0.73559121, 0.73743682, 0.73929857,\n",
       "       0.74117705, 0.74307282, 0.7449865 , 0.74691868, 0.74886999,\n",
       "       0.75084105, 0.75283251, 0.75484502, 0.75687924, 0.75893585,\n",
       "       0.76101554, 0.76311902, 0.76524698, 0.76740017, 0.7695793 ,\n",
       "       0.77178515, 0.77401846, 0.77628001, 0.7785706 , 0.78089101,\n",
       "       0.78324207, 0.78562459, 0.78803943, 0.79048742, 0.79296944,\n",
       "       0.79548637, 0.7980391 , 0.80062853, 0.80325559, 0.8059212 ,\n",
       "       0.80862632, 0.81137191, 0.81415894, 0.81698839, 0.81986129,\n",
       "       0.82277863, 0.82574147, 0.82875083, 0.83180778, 0.83491341,\n",
       "       0.83806879, 0.84127505, 0.84453328, 0.84784464, 0.85121028,\n",
       "       0.85463135, 0.85810905, 0.86164456, 0.8652391 , 0.8688939 ,\n",
       "       0.87261021, 0.87638928, 0.88023238, 0.88414082, 0.88811589,\n",
       "       0.89215893, 0.89627126, 0.90045426, 0.90470928, 0.90903773,\n",
       "       0.91344101, 0.91792054, 0.92247776, 0.92711412, 0.93183111,\n",
       "       0.93663022])"
      ]
     },
     "execution_count": 50,
     "metadata": {},
     "output_type": "execute_result"
    }
   ],
   "source": [
    "tgts"
   ]
  },
  {
   "cell_type": "code",
   "execution_count": 51,
   "metadata": {},
   "outputs": [
    {
     "data": {
      "text/plain": [
       "[<matplotlib.lines.Line2D at 0x1a2434a5f8>]"
      ]
     },
     "execution_count": 51,
     "metadata": {},
     "output_type": "execute_result"
    },
    {
     "data": {
      "image/png": "[encoded data removed]",
      "text/plain": [
       "<Figure size 1008x432 with 1 Axes>"
      ]
     },
     "metadata": {
      "needs_background": "light"
     },
     "output_type": "display_data"
    }
   ],
   "source": [
    "plt.plot(tgts)"
   ]
  },
  {
   "cell_type": "code",
   "execution_count": null,
   "metadata": {},
   "outputs": [],
   "source": [
    "tgts[-1]"
   ]
  },
  {
   "cell_type": "code",
   "execution_count": null,
   "metadata": {},
   "outputs": [],
   "source": [
    "# or is there something about this that keeps it from getting to 1.0 that I'm forgetting?\n",
    "bars.index"
   ]
  },
  {
   "cell_type": "code",
   "execution_count": 52,
   "metadata": {},
   "outputs": [
    {
     "data": {
      "image/png": "[encoded data removed]",
      "text/plain": [
       "<Figure size 1008x432 with 1 Axes>"
      ]
     },
     "metadata": {
      "needs_background": "light"
     },
     "output_type": "display_data"
    }
   ],
   "source": [
    "tgt_date = '1-24-2018'\n",
    "plt.plot(bars[tgt_date]['accum_pct'])\n",
    "tgtsSeries = pd.Series(tgts)\n",
    "tgtsSeries.index = bars[tgt_date].index\n",
    "plt.plot(tgtsSeries)\n",
    "plt.show()"
   ]
  },
  {
   "cell_type": "code",
   "execution_count": null,
   "metadata": {},
   "outputs": [],
   "source": []
  }
 ],
 "metadata": {
  "kernelspec": {
   "display_name": "Python 3",
   "language": "python",
   "name": "python3"
  },
  "language_info": {
   "codemirror_mode": {
    "name": "ipython",
    "version": 3
   },
   "file_extension": ".py",
   "mimetype": "text/x-python",
   "name": "python",
   "nbconvert_exporter": "python",
   "pygments_lexer": "ipython3",
   "version": "3.7.4"
  }
 },
 "nbformat": 4,
 "nbformat_minor": 4
}
